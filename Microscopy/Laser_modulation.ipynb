{
 "cells": [
  {
   "cell_type": "markdown",
   "metadata": {},
   "source": [
    "# Laser Modulation\n",
    "\n",
    "This notebook was used to modulate the lasers. We used a National Instruments PXI-6602 Counter/Timer module for synchronizing the camera with the two lasers.\n",
    "\n",
    "The first part of the code defines all terminals that we used.\n",
    "- ctr3 : for the 405 laser\n",
    "- ctr1 : for the 651 laser\n",
    "- pfi39 : connected to the camera to synchronize the pulses\n",
    "\n",
    "Before running the program it is import to specify the exposure time per frame (time per frame), the pulse duration for the 405 and the 561 laser and the time between the two 561 laser pulses (separation_561).\n",
    "\n",
    "It is also possible to shift all pulses by adjusting the shift variable.\n",
    "\n",
    "Rijksuniversiteit Groningen, 2021  \n",
    "Michiel Punter (c.m.punter at rug.nl)  \n",
    "Dmitrii Linnik (d.linnik at rug.nl)"
   ]
  },
  {
   "cell_type": "code",
   "execution_count": 1,
   "metadata": {},
   "outputs": [
    {
     "name": "stdout",
     "output_type": "stream",
     "text": [
      "reset device\n",
      "create task for 405\n",
      "create task for 561\n",
      "start tasks\n",
      "press enter to stop tasks\n",
      "done\n"
     ]
    },
    {
     "name": "stderr",
     "output_type": "stream",
     "text": [
      "C:\\ProgramData\\Anaconda3\\lib\\site-packages\\PyDAQmx\\DAQmxFunctions.py:67: StoppedBeforeDoneWarning: Finite acquisition or generation has been stopped before the requested number of samples were acquired or generated.\n",
      " in function DAQmxStopTask\n",
      "  warnings.warn(exception_class(errBuff.value.decode(\"utf-8\"), f.__name__))\n"
     ]
    }
   ],
   "source": [
    "from PyDAQmx import *\n",
    "import time\n",
    "\n",
    "# counters with corresponding terminals\n",
    "terminal_camera = '/dev1/pfi39'\n",
    "\n",
    "counter_405 = '/dev1/ctr3'\n",
    "terminal_405 = '/dev1/pfi24'\n",
    "\n",
    "counter_561 = '/dev1/ctr1'\n",
    "\n",
    "counter_sync1 = '/dev1/ctr5'\n",
    "terminal_sync1 = '/dev1/'\n",
    "\n",
    "counter_sync2 = '/dev1/ctr6'\n",
    "terminal_sync2 = '/dev1/'\n",
    "\n",
    "# exposure time per frame\n",
    "exposure_time = 0.21\n",
    "\n",
    "# pulse duration\n",
    "duration_405 = 500e-6\n",
    "duration_561 = 500e-6\n",
    "\n",
    "# shift pulses\n",
    "shift = 0\n",
    "\n",
    "# separation between the two 561 pulses\n",
    "separation_561 = 1e-3\n",
    "\n",
    "# create tasks\n",
    "\n",
    "print('create synchronization tasks')\n",
    "\n",
    "task_sync1 = Task()\n",
    "task_sync1.CreateCOPulseChanTime(counter_sync1, '', DAQmx_Val_Seconds, DAQmx_Val_High, 0, shift, (exposure_time * 1.5) - shift)\n",
    "task_sync1.CfgImplicitTiming(DAQmx_Val_FiniteSamps, 1)\n",
    "task_sync1.SetStartTrigRetriggerable(True)\n",
    "task_sync1.CfgDigEdgeStartTrig(terminal_camera, DAQmx_Val_Rising)\n",
    "\n",
    "# make sure the seperation duration is the time between the middle of both pulses\n",
    "separationduration_561tion_561\n",
    "\n",
    "# calculate the amount of time we have to wait before we turn on the 561 laser\n",
    "initial_delay_561 = exposure_time - (shift + duration_561 + (separation_561 / 2.0))\n",
    "\n",
    "task_sync2 = Task()\n",
    "task_sync2.CreateCOPulseChanTime(counter_sync2, '', DAQmx_Val_Seconds, DAQmx_Val_High, 0, initial_delay_561, exposure_time * 0.75)\n",
    "task_sync2.CfgImplicitTiming(DAQmx_Val_FiniteSamps, 1)\n",
    "task_sync2.SetStartTrigRetriggerable(True)\n",
    "task_sync2.CfgDigEdgeStartTrig(terminal_camera, DAQmx_Val_Rising)\n",
    "\n",
    "print('create task for 405')\n",
    "\n",
    "task_405 = Task()\n",
    "task_405.CreateCOPulseChanTime(counter_405, '', DAQmx_Val_Seconds, DAQmx_Val_Low, 0, duration_405, duration_405)\n",
    "task_405.CfgImplicitTiming(DAQmx_Val_FiniteSamps, 1)\n",
    "task_405.SetStartTrigRetriggerable(True)\n",
    "task_405.CfgDigEdgeStartTrig(terminal_sync1, DAQmx_Val_Rising)\n",
    "\n",
    "print('create task for 561')\n",
    "\n",
    "task_561 = Task()\n",
    "task_561.CreateCOPulseChanTime(counter_561, '', DAQmx_Val_Seconds, DAQmx_Val_Low, 0, separation_561, duration_561)\n",
    "task_561.CfgImplicitTiming(DAQmx_Val_FiniteSamps, 2)\n",
    "task_561.SetStartTrigRetriggerable(True)\n",
    "task_561.CfgDigEdgeStartTrig(terminal_sync2, DAQmx_Val_Rising)\n",
    "\n",
    "print('start tasks')\n",
    "\n",
    "task_405.StartTask()\n",
    "task_561.StartTask()\n",
    "task_sync1.StartTask()\n",
    "task_sync2.StartTask()\n",
    "\n",
    "input('press enter to stop tasks')\n",
    "\n",
    "task_405.StopTask()\n",
    "task_561.StopTask()\n",
    "task_sync1.StopTask()\n",
    "task_sync2.StopTask()\n",
    "\n",
    "time.sleep(2)\n",
    "\n",
    "print('done')\n"
   ]
  },
  {
   "cell_type": "code",
   "execution_count": null,
   "metadata": {},
   "outputs": [],
   "source": []
  }
 ],
 "metadata": {
  "kernelspec": {
   "display_name": "Python 3",
   "language": "python",
   "name": "python3"
  },
  "language_info": {
   "codemirror_mode": {
    "name": "ipython",
    "version": 3
   },
   "file_extension": ".py",
   "mimetype": "text/x-python",
   "name": "python",
   "nbconvert_exporter": "python",
   "pygments_lexer": "ipython3",
   "version": "3.8.10"
  }
 },
 "nbformat": 4,
 "nbformat_minor": 4
}
