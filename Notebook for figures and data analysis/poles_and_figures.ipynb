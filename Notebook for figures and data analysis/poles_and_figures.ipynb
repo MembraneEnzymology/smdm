{
 "cells": [
  {
   "cell_type": "code",
   "execution_count": 1,
   "id": "2f820724-132b-403a-9af1-81960cb4ed29",
   "metadata": {},
   "outputs": [],
   "source": [
    "import os\n",
    "import pandas as pd\n",
    "import scipy\n",
    "from scipy import stats\n",
    "import numpy as np\n",
    "import matplotlib as mpl\n",
    "import matplotlib.pyplot as plt\n",
    "import seaborn as sns"
   ]
  },
  {
   "cell_type": "markdown",
   "id": "4bfa5c14-e0f5-4733-8ac8-024fd167ace9",
   "metadata": {},
   "source": [
    "creating figure 2b"
   ]
  },
  {
   "cell_type": "code",
   "execution_count": 2,
   "id": "a57f1676-c09c-4995-b46c-aa3ce6e876ca",
   "metadata": {
    "tags": []
   },
   "outputs": [],
   "source": [
    "path = os.getcwd()\n",
    "path += '\\\\files\\\\for_paper\\\\maps 1 5 10'\n",
    "\n",
    "# to get a different map change between D_1.0, D_5.0 and D_10.0 in the file name\n",
    "df = pd.read_csv(path+'\\\\billiard_cx_0_cy_0_len_2.25_diam_0.9_D_1.0_N_500_map_diff_first_fit.csv.zip', index_col = 0)\n",
    "df = df.to_numpy()\n",
    "shape = np.shape(df)\n",
    "df = df.ravel()\n",
    "df = np.where(df == 0, np.nan, df)\n",
    "df = np.reshape(df, shape)\n",
    "df = pd.DataFrame(df)\n",
    "\n",
    "array = df.to_numpy()\n",
    "array = array.ravel()\n",
    "indices = np.where(np.isnan(array) == False)[0]\n",
    "array = array[indices]\n",
    "average = np.mean(array)"
   ]
  },
  {
   "cell_type": "code",
   "execution_count": 3,
   "id": "46714367-a564-45ab-90c5-962027add0e7",
   "metadata": {
    "tags": []
   },
   "outputs": [
    {
     "data": {
      "image/png": "[encoded data removed]",
      "text/plain": [
       "<Figure size 216x129.6 with 2 Axes>"
      ]
     },
     "metadata": {
      "needs_background": "light"
     },
     "output_type": "display_data"
    }
   ],
   "source": [
    "figsize_halfwidth = (3, 1.8)\n",
    "colors = plt.rcParams['axes.prop_cycle'].by_key()['color']\n",
    "\n",
    "fig2b = plt.figure(figsize = figsize_halfwidth)\n",
    "axs2b = fig2b.subplots(1)\n",
    "axs2b.set_yticks([-1,-0.5,0.0,0.5,1])\n",
    "axs2b.set_yticklabels([-1,-0.5,0.0,0.5,1])\n",
    "axs2b.set_ylabel(r'$\\mu m$')#'D_center [um^2/s] CPD_corr')\n",
    "\n",
    "\n",
    "axs2b.set_xlabel(r'$\\mu m$')\n",
    "axs2b.set_xticks([-2, -1.5, -1, -0.5, 0, 0.5, 1, 1.5, 2])\n",
    "axs2b.set_xticklabels([-2, -1.5, -1, -0.5, 0, 0.5, 1, 1.5, 2])\n",
    "\n",
    "map0 = sns.heatmap(df, cmap = 'bwr', vmin = 0.7, vmax = 1.3, xticklabels = False, yticklabels = False, square = True)\n",
    "\n",
    "fig2b.savefig('fig2b_1.pdf', dpi = 300, format = 'pdf', bbox_inches='tight')"
   ]
  },
  {
   "cell_type": "markdown",
   "id": "50140b60-6bd6-438c-b91e-2fa05e501c73",
   "metadata": {},
   "source": [
    "figure 2c"
   ]
  },
  {
   "cell_type": "code",
   "execution_count": 4,
   "id": "16055d0a-8e5f-40dd-bd21-7444167a9a21",
   "metadata": {},
   "outputs": [],
   "source": [
    "path = os.getcwd()\n",
    "path += '\\\\files\\\\for_paper\\\\maps apparent vs sim'\n",
    "\n",
    "square_center = []\n",
    "center_region = []\n",
    "\n",
    "D_0_01 = []\n",
    "D_0_05 = []\n",
    "D_0_1 = []\n",
    "D_0_5 = []\n",
    "D_1 = []\n",
    "D_2_5 = []\n",
    "D_5 = []\n",
    "D_8 = []\n",
    "D_10 = []\n",
    "D_15 = []\n",
    "D_20 = []\n",
    "D_25 = []\n",
    "D_30 = []\n",
    "D_35 = []\n",
    "D_50 = []\n",
    "D_80 = []\n",
    "D_110 = []\n",
    "\n",
    "\n",
    "names = [0.01, 0.05, 0.1, 0.5, 1.0, 2.5, 5.0, 8.0, 10.0, 15.0, 20.0, 25.0, 30.0, 35.0, 50.0, 80.0, 110.0]\n",
    "names = np.array(names)\n",
    "\n",
    "for file in os.listdir(path):\n",
    "    \n",
    "    if file.endswith(\"diff_first_fit.csv.zip\"):\n",
    "        name = path + '\\\\' + file\n",
    "        \n",
    "        while file[0] != 'b':\n",
    "            \n",
    "            file = file[1:]\n",
    "        \n",
    "        df = pd.read_csv(name, index_col = 0)\n",
    "        square = (df.iloc[8,21] + df.iloc[8,22] + df.iloc[8,23] + df.iloc[9,21] + df.iloc[9,22] + df.iloc[9,23])/6\n",
    "        region = df.iloc[:,9:35]\n",
    "        region = region.to_numpy()\n",
    "        region = np.sum(region)/(18*27)\n",
    "        \n",
    "        if file[39:43] == '0.01':\n",
    "            D_0_01.append(square)\n",
    "            D_0_01.append(region)\n",
    "            \n",
    "        elif file[39:43] == '0.05':\n",
    "            D_0_05.append(square)\n",
    "            D_0_05.append(region)\n",
    "            \n",
    "        elif file[39:42] == '0.1':\n",
    "            D_0_1.append(square)\n",
    "            D_0_1.append(region)\n",
    "            \n",
    "        elif file[39:42] == '0.5':\n",
    "            D_0_5.append(square)\n",
    "            D_0_5.append(region)\n",
    "            \n",
    "        elif file[39:42] == '1.0':\n",
    "            D_1.append(square)\n",
    "            D_1.append(region)\n",
    "            \n",
    "        elif file[39:42] == '2.5':\n",
    "            D_2_5.append(square)\n",
    "            D_2_5.append(region)\n",
    "            \n",
    "        elif file[39:42] == '5.0':\n",
    "            D_5.append(square)\n",
    "            D_5.append(region)\n",
    "            \n",
    "        elif file[39:42] == '8.0':\n",
    "            D_8.append(square)\n",
    "            D_8.append(region)\n",
    "            \n",
    "        elif file[39:43] == '10.0':\n",
    "            D_10.append(square)\n",
    "            D_10.append(region)\n",
    "            \n",
    "        elif file[39:43] == '15.0':\n",
    "            D_15.append(square)\n",
    "            D_15.append(region)\n",
    "            \n",
    "        elif file[39:43] == '20.0':\n",
    "            D_20.append(square)\n",
    "            D_20.append(region)\n",
    "            \n",
    "        elif file[39:43] == '25.0':\n",
    "            D_25.append(square)\n",
    "            D_25.append(region)\n",
    "            \n",
    "        elif file[39:43] == '30.0':\n",
    "            D_30.append(square)\n",
    "            D_30.append(region)\n",
    "            \n",
    "        elif file[39:43] == '35.0':\n",
    "            D_35.append(square)\n",
    "            D_35.append(region)\n",
    "            \n",
    "        elif file[39:43] == '50.0':\n",
    "            D_50.append(square)\n",
    "            D_50.append(region)\n",
    "            \n",
    "        elif file[39:43] == '80.0':\n",
    "            D_80.append(square)\n",
    "            D_80.append(region)\n",
    "            \n",
    "        elif file[39:44] == '110.0':\n",
    "            D_110.append(square)\n",
    "            D_110.append(region)\n",
    "            \n",
    "        else:\n",
    "            print('wrong')\n",
    "\n",
    "\n",
    "maps = [D_0_01, D_0_05, D_0_1, D_0_5, D_1, D_2_5, D_5, D_8, D_10, D_15, D_20, D_25, D_30, D_35, D_50, D_80, D_110]\n",
    "\n",
    "maps = np.array(maps)\n",
    "\n",
    "squares = maps[:, ::2]\n",
    "regions = maps[:, 1::2]\n",
    "\n",
    "if len(squares[0]) > 1:\n",
    "    \n",
    "    den = np.tile(names, (len(squares[0]),1)).T\n",
    "    \n",
    "    squares_avg = np.mean(squares/den, axis = 1)\n",
    "    regions_avg = np.mean(regions/den, axis = 1)\n",
    "    squares_stdev = np.std(squares/den, axis = 1)\n",
    "    regions_stdev = np.std(regions/den, axis = 1)\n",
    "    squares_avg = squares_avg.ravel()\n",
    "    regions_avg = regions_avg.ravel()\n",
    "    squares_stdev = squares_stdev.ravel()\n",
    "    regions_stdev = regions_stdev.ravel()\n",
    "\n",
    "else:\n",
    "    squares_avg = squares.ravel()\n",
    "    regions_avg = regions.ravel()\n",
    "    squares_stdev = 0\n",
    "    regions_stdev = 0"
   ]
  },
  {
   "cell_type": "code",
   "execution_count": 5,
   "id": "7e702a79-eda6-44d0-afc6-8a627f342916",
   "metadata": {},
   "outputs": [
    {
     "data": {
      "image/png": "[encoded data removed]",
      "text/plain": [
       "<Figure size 360x129.6 with 1 Axes>"
      ]
     },
     "metadata": {
      "needs_background": "light"
     },
     "output_type": "display_data"
    }
   ],
   "source": [
    "figsize_halfwidth = (5, 1.8)\n",
    "colors = plt.rcParams['axes.prop_cycle'].by_key()['color']\n",
    "\n",
    "fig2c = plt.figure(figsize = figsize_halfwidth)\n",
    "axs2c = fig2c.subplots(1)\n",
    "axs2c.set_xscale('log')\n",
    "axs2c.set_yticks([0.5, 0.7, 0.9], minor = True)\n",
    "axs2c.set_yticklabels(['','',''], minor = True)\n",
    "axs2c.set_yticks([0.4, 0.6, 0.8, 1])\n",
    "axs2c.set_yticklabels([0.4, 0.6, 0.8, 1])\n",
    "axs2c.set_ylabel(r'$D^{center}_{app}$ / $D_{sim}$ $(\\mu m^2/s)$')#'D_center [um^2/s] CPD_corr')\n",
    "\n",
    "xticks = [0.02, 0.03, 0.04, 0.05, 0.06, 0.07, 0.08, 0.09, 0.2, 0.3, 0.4, 0.5, 0.6, 0.7, 0.8, 0.9, 2, 3, 4, 5, 6, 7, 8, 9, 20, 30, 40, 50, 60, 70, 80, 90, 110]\n",
    "xticklabels = ['' for i in xticks]\n",
    "\n",
    "\n",
    "axs2c.set_xlabel('$D_{sim}$ $(\\mu m^2/s)$')\n",
    "axs2c.set_xticks(xticks, minor=True)\n",
    "axs2c.set_xticklabels(xticklabels, minor=True)\n",
    "axs2c.set_xticks([0.01, 0.1, 1, 10, 100])\n",
    "axs2c.set_xticklabels([0.01, 0.1, 1, 10, 100])\n",
    "axs2c.errorbar(names, regions_avg, yerr = regions_stdev, fmt = '.', ls = 'none', capsize = 3, capthick = 1.5, elinewidth = 1.5, color = 'C0', label = 'whole cylinder')\n",
    "axs2c.errorbar(names, squares_avg, yerr = squares_stdev, fmt = '.', ls = 'none', capsize = 3, capthick = 1.5, elinewidth = 1.5, color = 'C1', label = '100x150 nm central area')\n",
    "axs2c.plot(np.linspace(0.01, 110, 1000), [1 for i in range(1000)], ls='dotted', markersize=0, lw=1.2, color = 'black', alpha = 0.5)\n",
    "\n",
    "axs2c.legend(fontsize=7, bbox_to_anchor=(0., 1.02, 1., .102), loc='lower left', ncol=2, mode=\"expand\", borderaxespad=0., frameon=False)\n",
    "\n",
    "fig2c.savefig('fig2c.pdf', dpi = 300, format = 'pdf', bbox_inches='tight')"
   ]
  },
  {
   "cell_type": "markdown",
   "id": "f87e2366-4f30-4d55-b8c1-36e555f4570b",
   "metadata": {},
   "source": [
    "Data from real life cells"
   ]
  },
  {
   "cell_type": "code",
   "execution_count": 6,
   "id": "d5da5596-2e88-4f02-9bb4-051868f594c2",
   "metadata": {},
   "outputs": [],
   "source": [
    "path = os.getcwd()\n",
    "path += '\\\\files\\\\for_paper\\\\tables and figures'\n",
    "\n",
    "diffusions = pd.read_excel(path + '\\\\diffusions.xlsx')\n",
    "diffusions = diffusions.to_numpy().T\n",
    "\n",
    "D_left = diffusions[::6]\n",
    "points_left = diffusions[1::6]\n",
    "D_center = diffusions[2::6]\n",
    "points_center = diffusions[3::6]\n",
    "D_right = diffusions[4::6]\n",
    "points_right = diffusions[5::6]"
   ]
  },
  {
   "cell_type": "code",
   "execution_count": 7,
   "id": "2c3d9d6e-487c-4839-9a0d-4465b8aea2ff",
   "metadata": {},
   "outputs": [
    {
     "name": "stdout",
     "output_type": "stream",
     "text": [
      "[12.93 14.19 10.92  9.06  9.69 10.34  9.24  9.37 14.47 10.82 11.24 16.3\n",
      " 11.74 11.44  9.52 10.93 11.57 11.6   9.92 11.16 10.56  8.71 10.58 10.64\n",
      " 12.17 11.09 11.22 12.37 11.08 12.08 12.02 14.43 11.64 11.24 12.23]\n",
      "0.0\n",
      "mEos3.2 is not normally distributed\n",
      "[11.18  9.56 10.17  6.28  6.16 10.51  8.22  7.09  8.08  8.83  6.18  6.79\n",
      "  8.02  9.61  7.26  6.57  7.56  6.42  8.34  7.35  8.52  6.65  7.36  8.49\n",
      "  7.56  8.26  6.27  8.08  6.07  6.99  6.98  6.49  6.83  6.83  8.34  8.08\n",
      "  8.47  8.8   8.84  9.11  7.62  7.92  7.74  8.51  8.39  7.44  6.94  8.69\n",
      "  7.45  8.66  6.96  8.22  7.9   7.57]\n",
      "0.0\n",
      "ThrC is not normally distributed\n",
      "[10.03 11.87 10.45 12.11 11.67 10.54  9.04  9.64 10.86 10.12  8.82  9.1\n",
      " 13.86 10.64 10.82  9.09  9.32 13.31 11.19  9.76 10.91  8.92 11.75  8.63\n",
      " 10.17  9.88  9.41  9.02 10.    9.38  8.31]\n",
      "0.0\n",
      "GrxC is not normally distributed\n",
      "[2.07 2.46 2.74 2.53 1.83 2.66 2.85 2.63 2.42 2.38 2.95 3.99 2.81 3.78\n",
      " 3.87 3.85 2.89 3.18 3.15 3.64 3.29 3.26 2.87 3.13 2.75 2.69 3.6  2.68\n",
      " 3.2  2.9  3.58 2.15 2.36 2.44 3.29 2.99 2.85]\n",
      "6.1308434005318525e-55\n",
      "IlvC is not normally distributed\n",
      "[6.51 5.59 8.47 6.23 6.82 6.01 6.18 6.5  5.24 5.55 5.74 6.76 5.76 7.85\n",
      " 7.67 5.14 6.47 7.83 8.43 6.88 7.98 8.41 7.73 7.64 6.56 9.73 7.65 6.52\n",
      " 6.26 7.59 6.96]\n",
      "3.763602945337643e-213\n",
      "AceB is not normally distributed\n",
      "[ 9.76 11.8   9.79  8.82 10.48  9.55 12.14  9.82 10.96 12.02 14.59  8.2\n",
      "  7.65  8.29  7.47  8.87  8.82  8.12  9.55  7.28  9.1   9.51  9.04  9.98\n",
      "  9.56 10.26  9.61  8.29]\n",
      "0.0\n",
      "AcpP is not normally distributed\n",
      "[ 7.77 11.29  9.78  8.6   6.24  7.01  8.35  8.08  8.23  8.32  8.09  6.42\n",
      "  7.33  7.46  7.14  7.14  8.22  8.14  7.89  7.26  8.47  7.34  6.89  7.78\n",
      "  6.66  6.36]\n",
      "1.3851873932336615e-251\n",
      "ErpA is not normally distributed\n",
      "[ 7.51  8.57  8.42  8.73 10.68  7.67  8.1   9.04  6.89 13.58  9.21 12.94\n",
      "  8.56  8.01  7.05  6.39 12.94  7.5  10.22  8.9   9.67 11.22 10.3  10.64\n",
      " 10.58  8.83  7.53  4.85  8.55  9.11  7.28  7.05  7.    8.64  7.33  8.42\n",
      "  8.46  7.69  7.88  7.2   8.61]\n",
      "5.147424626315647e-255\n",
      "TrxA is not normally distributed\n",
      "[4.   4.05 4.83 3.54 4.85 4.92 4.74 4.64 5.42 5.36 6.58 3.36 4.54 2.9\n",
      " 3.75 3.79 3.11 5.09 4.77 3.68 4.07 4.01 2.93 4.74 3.58 4.49 3.25 3.45\n",
      " 4.1  4.28 3.97 3.75 3.37 3.79 3.51 3.42 3.54 3.47 4.4  3.58 4.47 3.84\n",
      " 3.14]\n",
      "8.878956609039483e-118\n",
      "LeuS is not normally distributed\n",
      "[5.02 6.   3.9  5.55 6.29 5.71 4.52 4.61 4.45 3.32 4.64 4.45 4.51 4.58\n",
      " 4.75 6.95 5.13 4.75 5.63 4.67 5.31 6.64 4.28]\n",
      "2.1225314211483288e-77\n",
      "Icd is not normally distributed\n",
      "[ 7.17  7.32  7.34  7.72  7.39  6.05  6.55  8.    8.18 10.38  7.69  9.03\n",
      "  9.57  9.66 10.83  7.68  6.9   8.29  7.84]\n",
      "4.35184768466333e-174\n",
      "TrxA2_hvo is not normally distributed\n",
      "[ 8.86 10.76  6.24  6.84  6.66  5.32  5.44  5.18  6.62  6.19  6.11  7.12\n",
      "  8.63  5.99  6.23  5.36  6.95  6.44  5.98  7.4   5.98  6.33  7.48  7.2\n",
      "  7.18  5.59  4.6 ]\n",
      "1.175682175231677e-153\n",
      "TrxA_lla is not normally distributed\n"
     ]
    }
   ],
   "source": [
    "# testing for normality\n",
    "\n",
    "names = ['mEos3.2','ThrC','GrxC','IlvC','AceB','AcpP','ErpA','TrxA','LeuS','Icd',\"TrxA2_hvo\",'TrxA_lla']\n",
    "\n",
    "for index, protein in enumerate(D_center):\n",
    "    \n",
    "    protein = protein[~np.isnan(protein)]\n",
    "    \n",
    "    normality = stats.kstest(protein, 'norm')\n",
    "    p_value = normality[1]\n",
    "    print(protein)\n",
    "    print(p_value)\n",
    "    \n",
    "    if p_value > 0.05:\n",
    "        \n",
    "        print(names[index], 'is normally distributed')\n",
    "        \n",
    "    else:\n",
    "        \n",
    "        print(names[index], 'is not normally distributed')"
   ]
  },
  {
   "cell_type": "code",
   "execution_count": 8,
   "id": "3323b9a5-5936-438b-93b3-dcc5e38f6d79",
   "metadata": {},
   "outputs": [
    {
     "name": "stdout",
     "output_type": "stream",
     "text": [
      "35\n",
      "11.386\n",
      "1.6071344507716656\n",
      "54\n",
      "7.837222222222221\n",
      "1.1185596172238432\n",
      "31\n",
      "10.278064516129032\n",
      "1.3206997640665386\n",
      "37\n",
      "2.9381081081081084\n",
      "0.5197808157490473\n",
      "31\n",
      "6.924516129032258\n",
      "1.075698838744069\n",
      "28\n",
      "9.618928571428572\n",
      "1.569629936563107\n",
      "26\n",
      "7.779230769230769\n",
      "1.0610985710643441\n",
      "41\n",
      "8.725609756097562\n",
      "1.7788528076050392\n",
      "43\n",
      "4.071395348837209\n",
      "0.7531162589622206\n",
      "23\n",
      "5.028695652173913\n",
      "0.8539539970698253\n",
      "19\n",
      "8.083684210526318\n",
      "1.2421255573721235\n",
      "27\n",
      "6.617777777777778\n",
      "1.2555516224127186\n",
      "349\n"
     ]
    }
   ],
   "source": [
    "# print number of cells, mean and stdev of cell center for each protein\n",
    "# calculate total number of all cells and of heterelogous ones, to get the number of mEos + native\n",
    "total = 0\n",
    "\n",
    "for protein in D_center:\n",
    "    \n",
    "    print(len(protein[~np.isnan(protein)]))\n",
    "    print(np.nanmean(protein))\n",
    "    print(np.nanstd(protein))\n",
    "    \n",
    "    total += len(protein[~np.isnan(protein)])\n",
    "    \n",
    "length_het = len(D_center[-1][~np.isnan(D_center[-1])]) + len(D_center[-2][~np.isnan(D_center[-2])])\n",
    "\n",
    "total_no_het = total - length_het\n",
    "print(total_no_het)"
   ]
  },
  {
   "cell_type": "code",
   "execution_count": 9,
   "id": "7a8c16c4-4b53-4115-b226-a69be4a1124b",
   "metadata": {},
   "outputs": [],
   "source": [
    "names = ['mEos3.2','ThrC','GrxC','IlvC','AceB','AcpP','ErpA','TrxA','LeuS','Icd',\"TrxA2_hvo\",'TrxA_lla']\n",
    "\n",
    "ID = ['1','3','8','9','11','12','13','15','16','19','15_hvo','15_lla']\n",
    "\n",
    "MW = np.array([25.7,47.1,9.1,54,60.2,8.6,12.1,11.8,97.2,45.7,12.1,11.7])\n",
    "MW[1:] = MW[1:] + MW[0]\n",
    "\n",
    "complex_mass = np.array([25.7,72.8,34.8,318.9,85.9,34.3,75.5,37.5,122.9,142.8,37.8,37.4])\n",
    "\n",
    "loneliness = np.array([0.35,89.4,36.2,10.4,0.12,0.1,0.025,0.005,1.02])\n",
    "\n",
    "abundance = np.array([11109,6170,29065,8308,28863,3460,18242,1505,24591])\n",
    "\n",
    "cells_count = np.array([len(protein[~np.isnan(protein)]) for protein in D_center])\n",
    "\n",
    "D_center_mean = np.nanmean(D_center, axis = 1)\n",
    "D_center_stdev = np.nanstd(D_center, axis = 1)\n",
    "\n",
    "D_left_ratio_mean = np.nanmean(D_left/D_center, axis = 1)\n",
    "D_left_ratio_stdev = np.nanstd(D_left/D_center, axis = 1)\n",
    "\n",
    "D_right_ratio_mean = np.nanmean(D_right/D_center, axis = 1)\n",
    "D_right_ratio_stdev = np.nanstd(D_right/D_center, axis = 1)\n",
    "\n",
    "# left pole / cell center and right pole / cell center\n",
    "# Will need this later\n",
    "\n",
    "D_center_all = D_center[~np.isnan(D_center)]\n",
    "D_left_all = D_left[~np.isnan(D_left)]\n",
    "D_right_all = D_right[~np.isnan(D_right)]\n",
    "\n",
    "D_left_ratio_all = D_left_all/D_center_all\n",
    "D_right_ratio_all = D_right_all/D_center_all"
   ]
  },
  {
   "cell_type": "markdown",
   "id": "fa49b164-2ac3-4c57-91c6-769b11000a9f",
   "metadata": {},
   "source": [
    "Creating figure 4c-f"
   ]
  },
  {
   "cell_type": "code",
   "execution_count": 10,
   "id": "61b2d47c-bdc1-4834-a1eb-19729ac7aa7d",
   "metadata": {},
   "outputs": [
    {
     "name": "stdout",
     "output_type": "stream",
     "text": [
      "SpearmanrResult(correlation=-0.06666666666666667, pvalue=0.8646897846262037)\n"
     ]
    }
   ],
   "source": [
    "# correlation fig 4c\n",
    "print(stats.spearmanr(D_center_mean[1:-2], abundance))"
   ]
  },
  {
   "cell_type": "code",
   "execution_count": 11,
   "id": "f83f0c3f-d2fc-44b1-8a18-5630fb97b5b1",
   "metadata": {},
   "outputs": [
    {
     "data": {
      "image/png": "[encoded data removed]",
      "text/plain": [
       "<Figure size 216x129.6 with 1 Axes>"
      ]
     },
     "metadata": {
      "needs_background": "light"
     },
     "output_type": "display_data"
    }
   ],
   "source": [
    "figsize_halfwidth = (3, 1.8)\n",
    "colors = plt.rcParams['axes.prop_cycle'].by_key()['color']\n",
    "\n",
    "fig4c = plt.figure(figsize = figsize_halfwidth)\n",
    "axs4c = fig4c.subplots(1)\n",
    "axs4c.set_xscale('log')\n",
    "axs4c.set_yscale('log')\n",
    "axs4c.set_yticks([2,3,4,5,6,7,8,9,15], minor = True)\n",
    "axs4c.set_yticklabels([2,3,4,5,'','','','',15], minor = True)\n",
    "axs4c.set_yticks([10])\n",
    "axs4c.set_yticklabels([10])\n",
    "axs4c.set_ylabel(r'$D^{center}_{app}$ $(\\mu m^2/s)$')#'D_center [um^2/s] CPD_corr')\n",
    "\n",
    "\n",
    "axs4c.set_xlabel('Abundance $(thousand$ $copies/cell)$')\n",
    "axs4c.set_xticks([2000, 3000, 4000, 5000, 6000, 7000, 8000, 9000, 20000, 30000], minor=True)\n",
    "axs4c.set_xticklabels([2, 3, 4, 5, '', '', '', '', 20, 30], minor=True)\n",
    "axs4c.set_xticks([10000])\n",
    "axs4c.set_xticklabels([10])\n",
    "axs4c.errorbar(abundance, D_center_mean[2:-1], yerr = D_center_stdev[2:-1], fmt = '.', ls = 'none', capsize = 3, capthick = 1.5, elinewidth = 1.5, label = 'native')\n",
    "axs4c.legend(fontsize=7, bbox_to_anchor=(0., 1.02, 1., .102), loc='lower left', ncol=2, mode=\"expand\", borderaxespad=0., frameon=False)\n",
    "\n",
    "fig4c.savefig('fig4c.pdf', dpi = 300, format = 'pdf', bbox_inches='tight')"
   ]
  },
  {
   "cell_type": "code",
   "execution_count": 12,
   "id": "3ebc8da0-2b11-4f76-b4da-a33d396bc713",
   "metadata": {},
   "outputs": [
    {
     "name": "stdout",
     "output_type": "stream",
     "text": [
      "SpearmanrResult(correlation=0.049999999999999996, pvalue=0.8983528043506301)\n"
     ]
    }
   ],
   "source": [
    "# correlation fig 4d\n",
    "\n",
    "print(stats.spearmanr(D_center_mean[1:-2], loneliness))"
   ]
  },
  {
   "cell_type": "code",
   "execution_count": 13,
   "id": "0644ad46-8f9a-4699-961c-8e4dd76400a0",
   "metadata": {},
   "outputs": [
    {
     "data": {
      "image/png": "[encoded data removed]",
      "text/plain": [
       "<Figure size 216x129.6 with 1 Axes>"
      ]
     },
     "metadata": {
      "needs_background": "light"
     },
     "output_type": "display_data"
    }
   ],
   "source": [
    "figsize_halfwidth = (3, 1.8)\n",
    "colors = plt.rcParams['axes.prop_cycle'].by_key()['color']\n",
    "\n",
    "fig4d = plt.figure(figsize = figsize_halfwidth)\n",
    "axs4d = fig4d.subplots(1)\n",
    "axs4d.set_xscale('log')\n",
    "axs4d.set_yscale('log')\n",
    "axs4d.set_yticks([2,3,4,5,6,7,8,9,15], minor = True)\n",
    "axs4d.set_yticklabels([2,3,4,5,'','','','',15], minor = True)\n",
    "axs4d.set_yticks([10])\n",
    "axs4d.set_yticklabels([10])\n",
    "axs4d.set_ylabel(r'$D^{center}_{app}$ $(\\mu m^2/s)$')#'D_center [um^2/s] CPD_corr')\n",
    "\n",
    "xticks = [0.001, 0.002, 0.003, 0.004, 0.005, 0.006, 0.007, 0.008, 0.009, 0.02, 0.03, 0.04, 0.05, 0.06, 0.07, 0.08, 0.09, 0.2, 0.3, 0.4, 0.5, 0.6, 0.7, 0.8, 0.9, 2, 3, 4, 5, 6, 7, 8, 9, 20, 30, 40, 50, 60, 70, 80, 90]\n",
    "xticklabels = ['' for i in xticks]\n",
    "\n",
    "axs4d.set_xlabel('Loneliness $(copies/interactor)$')\n",
    "axs4d.set_xticks(xticks, minor=True)\n",
    "axs4d.set_xticklabels(xticklabels, minor=True)\n",
    "axs4d.set_xticks([0.01, 0.1, 1, 10, 100])\n",
    "axs4d.set_xticklabels([0.01, 0.1, 1, 10, 100])\n",
    "axs4d.errorbar(loneliness, D_center_mean[2:-1], yerr = D_center_stdev[2:-1], fmt = '.', ls = 'none', capsize = 3, capthick = 1.5, elinewidth = 1.5, label = 'native')\n",
    "axs4d.legend(fontsize=7, bbox_to_anchor=(0., 1.02, 1., .102), loc='lower left', ncol=2, mode=\"expand\", borderaxespad=0., frameon=False)\n",
    "\n",
    "fig4d.savefig('fig4d.pdf', dpi = 300, format = 'pdf', bbox_inches='tight')\n"
   ]
  },
  {
   "cell_type": "code",
   "execution_count": 14,
   "id": "ee51caac-9b86-4986-a654-57e20ea9b10c",
   "metadata": {},
   "outputs": [
    {
     "name": "stdout",
     "output_type": "stream",
     "text": [
      "SpearmanrResult(correlation=-0.7986001739057148, pvalue=0.0018404248554876482)\n"
     ]
    }
   ],
   "source": [
    "# correlation 4e\n",
    "\n",
    "print(stats.spearmanr(D_center_mean, MW))"
   ]
  },
  {
   "cell_type": "code",
   "execution_count": 15,
   "id": "e61743a1-e401-444e-86d4-1da7923ab3cf",
   "metadata": {},
   "outputs": [
    {
     "data": {
      "image/png": "[encoded data removed]",
      "text/plain": [
       "<Figure size 216x129.6 with 1 Axes>"
      ]
     },
     "metadata": {
      "needs_background": "light"
     },
     "output_type": "display_data"
    }
   ],
   "source": [
    "figsize_halfwidth = (3, 1.8)\n",
    "colors = plt.rcParams['axes.prop_cycle'].by_key()['color']\n",
    "\n",
    "fig4e = plt.figure(figsize = figsize_halfwidth)\n",
    "axs4e = fig4e.subplots(1)\n",
    "axs4e.set_xscale('log')\n",
    "axs4e.set_yscale('log')\n",
    "axs4e.set_yticks([2,3,4,5,6,7,8,9,15], minor = True)\n",
    "axs4e.set_yticklabels([2,3,4,5,'','','','',15], minor = True)\n",
    "axs4e.set_yticks([10])\n",
    "axs4e.set_yticklabels([10])\n",
    "axs4e.set_ylabel(r'$D^{center}_{app}$ $(\\mu m^2/s)$')#'D_center [um^2/s] CPD_corr')\n",
    "\n",
    "\n",
    "axs4e.set_xlabel('Molecular Weight $(kDa)$')\n",
    "axs4e.set_xticks([10, 20, 30, 40, 50, 60, 70, 80, 90], minor=True)\n",
    "axs4e.set_xticklabels([10, 20, 30, 40, 50, '', '', '', ''], minor=True)\n",
    "axs4e.set_xticks([100])\n",
    "axs4e.set_xticklabels([100])\n",
    "axs4e.errorbar(MW[1:-2], D_center_mean[1:-2], yerr = D_center_stdev[1:-2], fmt = '.', ls = 'none', capsize = 3, capthick = 1.5, elinewidth = 1.5, label = 'native')\n",
    "axs4e.errorbar(MW[-2:], D_center_mean[-2:], yerr = D_center_stdev[-2:], fmt = '.', ls = 'none', capsize = 3, capthick = 1.5, elinewidth = 1.5, label = 'heterologous')\n",
    "axs4e.errorbar(MW[0], D_center_mean[0], yerr = D_center_stdev[0], fmt = '.', ls = 'none', capsize = 3, capthick = 1.5, elinewidth = 1.5, label = 'mEos', color = 'xkcd:vermillion')\n",
    "\n",
    "axs4e.legend(fontsize=7, bbox_to_anchor=(0., 1.02, 1., .102), loc='lower left', ncol=2, mode=\"expand\", borderaxespad=0., frameon=False)\n",
    "\n",
    "fig4e.savefig('fig4e.pdf', dpi = 300, format = 'pdf', bbox_inches='tight')"
   ]
  },
  {
   "cell_type": "code",
   "execution_count": 16,
   "id": "31f29042-65d4-4352-86c1-77ee6f462383",
   "metadata": {},
   "outputs": [
    {
     "name": "stdout",
     "output_type": "stream",
     "text": [
      "SpearmanrResult(correlation=-0.8811188811188813, pvalue=0.00015267406467669873)\n"
     ]
    }
   ],
   "source": [
    "# correlation 4f\n",
    "\n",
    "print(stats.spearmanr(D_center_mean, complex_mass))"
   ]
  },
  {
   "cell_type": "code",
   "execution_count": 17,
   "id": "b39324ad-5a2c-493d-b453-d07e9889507c",
   "metadata": {},
   "outputs": [
    {
     "name": "stdout",
     "output_type": "stream",
     "text": [
      "SpearmanrResult(correlation=-0.9757575757575757, pvalue=1.4675461874042197e-06)\n"
     ]
    }
   ],
   "source": [
    "# correlation 4f no heterologous\n",
    "\n",
    "print(stats.spearmanr(D_center_mean[:-2], complex_mass[:-2]))"
   ]
  },
  {
   "cell_type": "code",
   "execution_count": 51,
   "id": "16f4aceb-2d0e-4f90-babc-d9b5d952b863",
   "metadata": {},
   "outputs": [
    {
     "name": "stdout",
     "output_type": "stream",
     "text": [
      "[52.60113622 -0.48770739]\n",
      "0.06631266616021524\n"
     ]
    }
   ],
   "source": [
    "# since I have correlation, I want to fit a curve through my data, calculate the expected values and residuals\n",
    "\n",
    "# fitting data for 4f\n",
    "def exponential(mass, a, b):\n",
    "    \n",
    "    return a*((mass)**b)\n",
    "\n",
    "values, cov_matrix = scipy.optimize.curve_fit(exponential, complex_mass, D_center_mean, sigma = D_center_stdev)\n",
    "\n",
    "xdata_het = np.linspace(np.amin(complex_mass), np.amax(complex_mass),1000)\n",
    "ydata_het = exponential(xdata_het, values[0], values[1])\n",
    "\n",
    "# calculate expected values for residual plot\n",
    "expected_complex_mass = exponential(complex_mass, values[0], values[1])\n",
    "expected_complex_mass_stokes = exponential(complex_mass, values[0], -1/3)\n",
    "\n",
    "print(values)\n",
    "print(np.sqrt(cov_matrix[-1,-1]))"
   ]
  },
  {
   "cell_type": "code",
   "execution_count": 52,
   "id": "38379283-72d6-4095-acb5-669abfe12e17",
   "metadata": {},
   "outputs": [
    {
     "name": "stdout",
     "output_type": "stream",
     "text": [
      "[67.67134843 -0.53585967]\n",
      "0.05306470887108785\n"
     ]
    }
   ],
   "source": [
    "# since I have correlation, I want to fit a curve through my data, calculate the expected values and residuals\n",
    "\n",
    "# fitting data for 64f no heterologous\n",
    "def exponential(mass, a, b):\n",
    "    \n",
    "    return a*((mass)**b)\n",
    "\n",
    "values_nohet, cov_matrix_nohet = scipy.optimize.curve_fit(exponential, complex_mass[:-2], D_center_mean[:-2], sigma = D_center_stdev[:-2])\n",
    "\n",
    "xdata = np.linspace(np.amin(complex_mass[:-2]), np.amax(complex_mass[:-2]),1000)\n",
    "ydata = exponential(xdata, values_nohet[0], values_nohet[1])\n",
    "\n",
    "# calculate expected values for residual plot\n",
    "expected_complex_mass_nohet = exponential(complex_mass[:-2], values_nohet[0], values_nohet[1])\n",
    "expected_complex_mass_nohet_stokes = exponential(complex_mass[:-2], values_nohet[0], -1/3)\n",
    "\n",
    "print(values_nohet)\n",
    "print(np.sqrt(cov_matrix_nohet[-1,-1]))"
   ]
  },
  {
   "cell_type": "code",
   "execution_count": 53,
   "id": "27daa4f4-33b8-47c1-aaaf-0db346f2a558",
   "metadata": {},
   "outputs": [
    {
     "data": {
      "image/png": "[encoded data removed]",
      "text/plain": [
       "<Figure size 216x129.6 with 1 Axes>"
      ]
     },
     "metadata": {
      "needs_background": "light"
     },
     "output_type": "display_data"
    }
   ],
   "source": [
    "figsize_halfwidth = (3, 1.8)\n",
    "colors = plt.rcParams['axes.prop_cycle'].by_key()['color']\n",
    "\n",
    "fig4f = plt.figure(figsize = figsize_halfwidth)\n",
    "axs4f = fig4f.subplots(1)\n",
    "axs4f.set_xscale('log')\n",
    "axs4f.set_yscale('log')\n",
    "axs4f.set_yticks([2,3,4,5,6,7,8,9,15], minor = True)\n",
    "axs4f.set_yticklabels([2,3,'',5,'','','','',15], minor = True)\n",
    "axs4f.set_yticks([10])\n",
    "axs4f.set_yticklabels([10])\n",
    "axs4f.set_ylabel(r'$D^{center}_{app}$ $(\\mu m^2/s)$')#'D_center [um^2/s] CPD_corr')\n",
    "\n",
    "\n",
    "axs4f.set_xlabel('Complex Mass $(kDa)$')\n",
    "axs4f.set_xticks([30, 40, 50, 60, 70, 80, 90, 200, 300], minor=True)\n",
    "axs4f.set_xticklabels([30, 40, 50, '', '', '', '', 200, 300], minor=True)\n",
    "axs4f.set_xticks([100])\n",
    "axs4f.set_xticklabels([100])\n",
    "axs4f.errorbar(complex_mass[1:-2], D_center_mean[1:-2], yerr = D_center_stdev[1:-2], fmt = '.', ls = 'none', capsize = 3, capthick = 1.5, elinewidth = 1.5, label = 'native')\n",
    "axs4f.errorbar(complex_mass[-2:], D_center_mean[-2:], yerr = D_center_stdev[-2:], fmt = '.', ls = 'none', capsize = 3, capthick = 1.5, elinewidth = 1.5, label = 'heterologous')\n",
    "axs4f.errorbar(complex_mass[0], D_center_mean[0], yerr = D_center_stdev[0], fmt = '.', ls = 'none', capsize = 3, capthick = 1.5, elinewidth = 1.5, label = 'mEos', color = 'xkcd:vermillion')\n",
    "\n",
    "\n",
    "axs4f.plot(xdata, ydata, ls='dotted', markersize=0, lw=1.2, label='trendline native', color = 'black', alpha = 0.5)\n",
    "axs4f.plot(xdata_het, ydata_het, ls='dotted', markersize=0, lw=1.2, label='trendline heterologous', color = 'orange', alpha = 1)\n",
    "axs4f.annotate( r'$D  =  \\alpha^{-0.49 \\pm 0.07}$' , xy=(95, 8.5), color = 'orange')\n",
    "axs4f.annotate( r'$D  =  \\alpha^{-0.54 \\pm 0.05}$' , xy=(95, 11), color = 'black')\n",
    "\n",
    "axs4f.legend(fontsize=7, bbox_to_anchor=(0., 1.02, 1., .102), loc='lower left', ncol=2, mode=\"expand\", borderaxespad=0., frameon=False)\n",
    "\n",
    "fig4f.savefig('fig4f.pdf', dpi = 300, format = 'pdf', bbox_inches='tight')"
   ]
  },
  {
   "cell_type": "code",
   "execution_count": 21,
   "id": "9962a65d-fd57-49af-93c5-fd6d9bf948ed",
   "metadata": {},
   "outputs": [
    {
     "data": {
      "image/png": "[encoded data removed]",
      "text/plain": [
       "<Figure size 216x129.6 with 1 Axes>"
      ]
     },
     "metadata": {
      "needs_background": "light"
     },
     "output_type": "display_data"
    }
   ],
   "source": [
    "#analysis of residuals for complex_mass\n",
    "# figure s3\n",
    "figsize_halfwidth = (3, 1.8)\n",
    "colors = plt.rcParams['axes.prop_cycle'].by_key()['color']\n",
    "\n",
    "figs3 = plt.figure(figsize = figsize_halfwidth)\n",
    "axss3 = figs3.subplots(1)\n",
    "axss3.set_xlabel(r'$D^{center}_{app}$ $(\\mu m^2/s)$ predicted')#'D_center [um^2/s] CPD_corr')\n",
    "axss3.set_ylabel(r'Residuals')#'D_center [um^2/s] CPD_corr')\n",
    "axss3.set_ylim([-5.5,5.5])\n",
    "\n",
    "axss3.axhline(0, color = 'black', ls = 'dotted')\n",
    "axss3.scatter(D_center_mean[1:-2], -(expected_complex_mass_nohet[1:] - D_center_mean[1:-2]), s = 7, label = 'native')\n",
    "axss3.scatter(D_center_mean[-2:], -(expected_complex_mass[-2:] - D_center_mean[-2:]), s = 7, label = 'heterogeneous')\n",
    "axss3.scatter(D_center_mean[0], -(expected_complex_mass_nohet[0] - D_center_mean[0]), color = 'xkcd:vermillion', s = 7, label = 'meos')\n",
    "\n",
    "axss3.legend(fontsize=7, bbox_to_anchor=(0., 1.02, 1., .102), loc='lower left', ncol=2, mode=\"expand\", borderaxespad=0., frameon=False)\n",
    "\n",
    "figs3.savefig('figs3.pdf', dpi = 300, format = 'pdf', bbox_inches='tight')"
   ]
  },
  {
   "cell_type": "markdown",
   "id": "ac04893b",
   "metadata": {},
   "source": [
    "F-Test"
   ]
  },
  {
   "cell_type": "code",
   "execution_count": 22,
   "id": "59155603",
   "metadata": {},
   "outputs": [
    {
     "name": "stdout",
     "output_type": "stream",
     "text": [
      "148.7108129570286\n",
      "\n",
      "741.396718331506\n",
      "1059.1307491866974\n"
     ]
    }
   ],
   "source": [
    "# get values of D_center for every cell in every set\n",
    "\n",
    "D_center_sets = []\n",
    "\n",
    "for index, protein in enumerate(D_center):\n",
    "\n",
    "    protein = protein[~np.isnan(protein)]\n",
    "\n",
    "    D_center_sets.append(protein)\n",
    "\n",
    "# get complex mass for all cells, to correlate every single D with complex mass\n",
    "complex_mass_sets = [np.repeat(complex_mass[i], len(D_center_sets[i])) for i in range(len(complex_mass))]\n",
    "\n",
    "# flatten the lists\n",
    "D_center_ravelled = []\n",
    "complex_mass_ravelled = []\n",
    "\n",
    "for i in range(len(D_center_sets)):\n",
    "    \n",
    "    for j in range(len(D_center_sets[i])):\n",
    "        \n",
    "        D_center_ravelled.append(D_center_sets[i][j])\n",
    "        complex_mass_ravelled.append(complex_mass_sets[i][j])\n",
    "        \n",
    "D_center_ravelled = np.array(D_center_ravelled)\n",
    "complex_mass_ravelled = np.array(complex_mass_ravelled)\n",
    "\n",
    "def exponential_unconstrained(mass, a, b):\n",
    "\n",
    "    return a*((mass)**b)\n",
    "\n",
    "def exponential_constrained(mass, a):\n",
    "    \n",
    "    return a*(mass**(-0.33))\n",
    "\n",
    "values_unconstraied, cov_matrix_unconstrained = scipy.optimize.curve_fit(exponential_unconstrained, complex_mass[:-2], D_center_mean[:-2], sigma = D_center_stdev[:-2])\n",
    "values_constraied, cov_matrix_constrained = scipy.optimize.curve_fit(exponential_constrained, complex_mass[:-2], D_center_mean[:-2], sigma = D_center_stdev[:-2])\n",
    "\n",
    "expected_complex_mass_nohet = exponential(complex_mass_ravelled[:-length_het], values_unconstraied[0], values_unconstraied[1])\n",
    "expected_complex_mass_nohet_stokes = exponential(complex_mass_ravelled[:-length_het], values_constraied[0], -0.33)\n",
    "\n",
    "\n",
    "residuals_sum = np.sum((D_center_ravelled[:-length_het] - expected_complex_mass_nohet)**2)\n",
    "residuals_sum_theory = np.sum((D_center_ravelled[:-length_het] - expected_complex_mass_nohet_stokes)**2)\n",
    "\n",
    "# residual_sum --> unrestricted --> parameters = 2\n",
    "# residual_sum_theory --> restricted --> parameters = 1\n",
    "\n",
    "f = (residuals_sum_theory - residuals_sum)/(residuals_sum/(total_no_het - 2))\n",
    "\n",
    "print(f)\n",
    "print()\n",
    "print(residuals_sum)\n",
    "print(residuals_sum_theory)"
   ]
  },
  {
   "cell_type": "markdown",
   "id": "05b7c27f-34d1-4adb-b55c-6b26d9024d12",
   "metadata": {},
   "source": [
    "figure 5b, diffusion center for trxa"
   ]
  },
  {
   "cell_type": "code",
   "execution_count": 23,
   "id": "56bb188c-ed14-4ea1-af8c-701ccd45568b",
   "metadata": {},
   "outputs": [],
   "source": [
    "trxa = D_center[7]\n",
    "trxa = trxa[~np.isnan(trxa)]\n",
    "\n",
    "trxa_lla = D_center[-1]\n",
    "trxa_lla = trxa_lla[~np.isnan(trxa_lla)]\n",
    "\n",
    "trxa_hvo = D_center[-2]\n",
    "trxa_hvo = trxa_hvo[~np.isnan(trxa_hvo)]"
   ]
  },
  {
   "cell_type": "code",
   "execution_count": 24,
   "id": "a7f4f686-825a-4027-81f5-95278443f836",
   "metadata": {},
   "outputs": [
    {
     "data": {
      "image/png": "[encoded data removed]",
      "text/plain": [
       "<Figure size 216x216 with 1 Axes>"
      ]
     },
     "metadata": {
      "needs_background": "light"
     },
     "output_type": "display_data"
    }
   ],
   "source": [
    "trxa_mean = np.mean(trxa)\n",
    "trxa_stdev = np.std(trxa)\n",
    "\n",
    "trxa_lla_mean = np.mean(trxa_lla)\n",
    "trxa_lla_stdev = np.std(trxa_lla)\n",
    "\n",
    "trxa_hvo_mean = np.mean(trxa_hvo)\n",
    "trxa_hvo_stdev = np.std(trxa_hvo)\n",
    "\n",
    "def gaussian_kde(data_for_kernel, data_to_plot):\n",
    "\n",
    "    kernel = stats.gaussian_kde(data_for_kernel)\n",
    "    x = kernel(data_to_plot) \n",
    "    \n",
    "    return x\n",
    "\n",
    "y_trxa = np.linspace(np.amin(trxa), np.amax(trxa), 1000)\n",
    "x_trxa = 1.1 + 2*gaussian_kde(trxa, y_trxa)\n",
    "\n",
    "y_trxa_lla = np.linspace(np.amin(trxa_lla), np.amax(trxa_lla), 1000)\n",
    "x_trxa_lla = 2.1 + 2*gaussian_kde(trxa_lla, y_trxa_lla)\n",
    "\n",
    "y_trxa_hvo = np.linspace(np.amin(trxa_hvo), np.amax(trxa_hvo), 1000)\n",
    "x_trxa_hvo = 3.1 + 2*gaussian_kde(trxa_hvo, y_trxa_hvo)\n",
    "\n",
    "figsize_halfwidth = (3, 3)\n",
    "colors = plt.rcParams['axes.prop_cycle'].by_key()['color']\n",
    "\n",
    "fig5b = plt.figure(figsize = figsize_halfwidth)\n",
    "axs5b = fig5b.subplots(1)\n",
    "axs5b.set_ylabel(r'$D^{center}_{app}$ $(\\mu m^2/s)$')#'D_center [um^2/s] CPD_corr')\n",
    "axs5b.set_ylim([4, 15])\n",
    "\n",
    "axs5b.set_xticks([1,2,3])\n",
    "axs5b.set_xticklabels(['$E. coli$', '$L. lactis$', '$Hfx. volcanii$'], rotation = 45)\n",
    "axs5b.errorbar(1, np.mean(trxa), yerr = np.std(trxa), fmt = '.', ls = 'none', capsize = 3, capthick = 1.5, elinewidth = 1.5, color = 'black', alpha = 1)\n",
    "axs5b.scatter([1 for i in range(len(trxa))], trxa, s = 2, alpha = 1)\n",
    "axs5b.plot(x_trxa, y_trxa, linewidth = 3)\n",
    "axs5b.errorbar(2, np.mean(trxa_lla), yerr = np.std(trxa_lla), fmt = '.', ls = 'none', capsize = 3, capthick = 1.5, elinewidth = 1.5, color = 'black', alpha = 1)\n",
    "axs5b.scatter([2 for i in range(len(trxa_lla))], trxa_lla, s = 2, alpha = 0.7, c = 'grey')\n",
    "axs5b.plot(x_trxa_lla, y_trxa_lla, c = 'grey', alpha = 0.7, linewidth = 3)\n",
    "axs5b.errorbar(3, np.mean(trxa_hvo), yerr = np.std(trxa_hvo), fmt = '.', ls = 'none', capsize = 3, capthick = 1.5, elinewidth = 1.5, color = 'black', alpha = 1)\n",
    "axs5b.scatter([3 for i in range(len(trxa_hvo))], trxa_hvo, s = 2, alpha = 1)\n",
    "axs5b.plot(x_trxa_hvo, y_trxa_hvo, linewidth = 3)\n",
    "\n",
    "fig5b.savefig('fig5b.pdf', dpi = 300, format = 'pdf', bbox_inches='tight')"
   ]
  },
  {
   "cell_type": "code",
   "execution_count": 25,
   "id": "eef4bf82-a003-4921-89b7-74446c2b4bbd",
   "metadata": {},
   "outputs": [
    {
     "data": {
      "text/plain": [
       "MannwhitneyuResult(statistic=958.5, pvalue=3.972412537832612e-07)"
      ]
     },
     "execution_count": 25,
     "metadata": {},
     "output_type": "execute_result"
    }
   ],
   "source": [
    "stats.mannwhitneyu(trxa, trxa_lla)"
   ]
  },
  {
   "cell_type": "code",
   "execution_count": 26,
   "id": "6ca26cec-37d5-4323-966e-2990b968d69a",
   "metadata": {},
   "outputs": [
    {
     "data": {
      "text/plain": [
       "MannwhitneyuResult(statistic=476.5, pvalue=0.16923498880291044)"
      ]
     },
     "execution_count": 26,
     "metadata": {},
     "output_type": "execute_result"
    }
   ],
   "source": [
    "stats.mannwhitneyu(trxa, trxa_hvo)"
   ]
  },
  {
   "cell_type": "markdown",
   "id": "376a1123-7a91-4cb8-a7cf-923b370f5a71",
   "metadata": {},
   "source": [
    "Creating figure 5C and 5D for simulation with D ranging from 1 to 15, radius from 0.4 to 1.2, length from 2 to 3.6"
   ]
  },
  {
   "cell_type": "code",
   "execution_count": 27,
   "id": "41ac9b85-ea45-49e6-a77b-514e69bb7284",
   "metadata": {
    "tags": []
   },
   "outputs": [],
   "source": [
    "# get simulated cells and analyze\n",
    "\n",
    "path = os.getcwd()\n",
    "path += '\\\\files\\\\for_paper\\\\maps poles vs center new'\n",
    "\n",
    "left_pole_all = []\n",
    "center_all = []\n",
    "right_pole_all = []\n",
    "\n",
    "for file in os.listdir(path):\n",
    "    \n",
    "    if file.endswith(\"diff_first_fit.csv.zip\"):\n",
    "        name = path + '\\\\' + file\n",
    "        df = pd.read_csv(name, index_col = 0)\n",
    "        \n",
    "        left_pole_all.append(df.iloc[0,0])\n",
    "        center_all.append(df.iloc[0,1])\n",
    "        right_pole_all.append(df.iloc[0,2])\n",
    "        \n",
    "left_pole_all = np.array(left_pole_all)\n",
    "center_all = np.array(center_all)\n",
    "right_pole_all = np.array(right_pole_all)\n"
   ]
  },
  {
   "cell_type": "code",
   "execution_count": 28,
   "id": "dc40d6ac-fd2c-4a64-864b-8b7b35e4964f",
   "metadata": {},
   "outputs": [],
   "source": [
    "path = os.getcwd()\n",
    "path += '\\\\files\\\\for_paper\\\\maps poles vs center new'\n",
    "\n",
    "D_1 = []\n",
    "D_2_5 = []\n",
    "D_3 = []\n",
    "D_5 = []\n",
    "D_8 = []\n",
    "D_10 = []\n",
    "D_12_5 = []\n",
    "D_15 = []\n",
    "D_17_5 = []\n",
    "D_20 = []\n",
    "\n",
    "left_ratio_sim = []\n",
    "right_ratio_sim = []\n",
    "\n",
    "\n",
    "names = [1.0, 2.5, 3.0, 5.0, 8.0, 10.0, 12.5, 15.0, 17.5, 20.0]\n",
    "names = np.array(names)\n",
    "\n",
    "for file in os.listdir(path):\n",
    "    \n",
    "    if file.endswith(\"diff_first_fit.csv.zip\"):\n",
    "        name = path + '\\\\' + file\n",
    "        \n",
    "        df = pd.read_csv(name, index_col = 0)\n",
    "        left_pole = df.iloc[0,0]\n",
    "        center = df.iloc[0,1]\n",
    "        right_pole = df.iloc[0,2]\n",
    "        \n",
    "        left_ratio = left_pole/center\n",
    "        right_ratio = right_pole/center\n",
    "        \n",
    "        left_ratio_sim.append(left_ratio)\n",
    "        right_ratio_sim.append(right_ratio)\n",
    "        \n",
    "        poles_ratio = (left_ratio + right_ratio)/2\n",
    "            \n",
    "        # if file[-36:-32] == '_0.5':\n",
    "        #     D_0_5.append([poles_ratio, center])\n",
    "            \n",
    "        if file[-36:-32] == '_1.0':\n",
    "            D_1.append([poles_ratio, center])\n",
    "            \n",
    "        elif file[-36:-32] == '_2.5':\n",
    "            D_2_5.append([poles_ratio, center])\n",
    "            \n",
    "        elif file[-36:-32] == '_3.0':\n",
    "            D_3.append([poles_ratio, center])\n",
    "            \n",
    "        elif file[-36:-32] == '_5.0':\n",
    "            D_5.append([poles_ratio, center])\n",
    "            \n",
    "        elif file[-36:-32] == '_8.0':\n",
    "            D_8.append([poles_ratio, center])\n",
    "            \n",
    "        elif file[-36:-32] == '10.0':\n",
    "            D_10.append([poles_ratio, center])\n",
    "            \n",
    "        elif file[-36:-32] == '12.5':\n",
    "            D_12_5.append([poles_ratio, center])\n",
    "            \n",
    "        elif file[-36:-32] == '15.0':\n",
    "            D_15.append([poles_ratio, center])\n",
    "            \n",
    "        elif file[-36:-32] == '17.5':\n",
    "            D_17_5.append([poles_ratio, center])\n",
    "            \n",
    "        elif file[-36:-32] == '20.0':\n",
    "            D_20.append([poles_ratio, center])\n",
    "            \n",
    "        else:\n",
    "            print('wrong')\n",
    "\n",
    "left_ratio_sim = np.array(left_ratio_sim)\n",
    "right_ratio_sim = np.array(right_ratio_sim)\n",
    "            \n",
    "# D_0_5_mean = np.mean(D_0_5, axis = 0)\n",
    "# D_0_5_stdev = np.std(D_0_5, axis = 0)\n",
    "\n",
    "D_1_mean = np.mean(D_1, axis = 0)\n",
    "D_1_stdev = np.std(D_1, axis = 0)\n",
    "\n",
    "D_2_5_mean = np.mean(D_2_5, axis = 0)\n",
    "D_2_5_stdev = np.std(D_2_5, axis = 0)\n",
    "\n",
    "D_3_mean = np.mean(D_3, axis = 0)\n",
    "D_3_stdev = np.std(D_3, axis = 0)\n",
    "\n",
    "D_5_mean = np.mean(D_5, axis = 0)\n",
    "D_5_stdev = np.std(D_5, axis = 0)\n",
    "\n",
    "D_8_mean = np.mean(D_8, axis = 0)\n",
    "D_8_stdev = np.std(D_8, axis = 0)\n",
    "\n",
    "D_10_mean = np.mean(D_10, axis = 0)\n",
    "D_10_stdev = np.std(D_10, axis = 0)\n",
    "\n",
    "D_12_5_mean = np.mean(D_12_5, axis = 0)\n",
    "D_12_5_stdev = np.std(D_12_5, axis = 0)\n",
    "\n",
    "D_15_mean = np.mean(D_15, axis = 0)\n",
    "D_15_stdev = np.std(D_15, axis = 0)\n",
    "\n",
    "D_17_5_mean = np.mean(D_17_5, axis = 0)\n",
    "D_17_5_stdev = np.std(D_17_5, axis = 0)\n",
    "\n",
    "D_20_mean = np.mean(D_20, axis = 0)\n",
    "D_20_stdev = np.std(D_20, axis = 0)\n",
    "\n",
    "\n",
    "\n",
    "maps_means = [D_1_mean, D_2_5_mean, D_3_mean, D_5_mean, D_8_mean, D_10_mean, D_12_5_mean, D_15_mean, D_17_5_mean, D_20_mean]\n",
    "maps_stdevs = [D_1_stdev, D_2_5_stdev, D_3_stdev, D_5_stdev, D_8_stdev, D_10_stdev, D_12_5_stdev, D_15_stdev, D_17_5_stdev, D_20_stdev]\n",
    "maps_means = np.array(maps_means)\n",
    "maps_stdevs = np.array(maps_stdevs)"
   ]
  },
  {
   "cell_type": "code",
   "execution_count": 29,
   "id": "22e909d7-bb22-4196-b93d-a1d40be19c0e",
   "metadata": {},
   "outputs": [],
   "source": [
    "# compare poles sim avg vs real poles avg\n",
    "poles_avg_real = np.mean([D_left_ratio_all, D_right_ratio_all], axis = 0)\n",
    "poles_avg_sim = np.mean([left_pole_all/center_all, right_pole_all/center_all], axis = 0)\n",
    "\n",
    "poles_avg_real_mean = (D_left_ratio_mean + D_right_ratio_mean)/2\n",
    "poles_avg_real_mean_stdev = (D_left_ratio_stdev + D_right_ratio_stdev)/2"
   ]
  },
  {
   "cell_type": "code",
   "execution_count": 30,
   "id": "c1b42c7a-8f0a-4d23-8ee7-8c0ec5fbed6c",
   "metadata": {},
   "outputs": [
    {
     "name": "stdout",
     "output_type": "stream",
     "text": [
      "ShapiroResult(statistic=0.9978506565093994, pvalue=0.8987882137298584)\n",
      "ShapiroResult(statistic=0.8448610305786133, pvalue=6.957778797556102e-10)\n"
     ]
    }
   ],
   "source": [
    "# testing data for normality\n",
    "normality_poles_avg_real = stats.shapiro(poles_avg_real)\n",
    "normality_poles_avg_sim = stats.shapiro(poles_avg_sim)\n",
    "\n",
    "print(normality_poles_avg_real)\n",
    "print(normality_poles_avg_sim)"
   ]
  },
  {
   "cell_type": "code",
   "execution_count": 31,
   "id": "74454731-a716-4aae-a4ed-36b076510bf7",
   "metadata": {},
   "outputs": [
    {
     "data": {
      "image/png": "[encoded data removed]",
      "text/plain": [
       "<Figure size 216x216 with 1 Axes>"
      ]
     },
     "metadata": {
      "needs_background": "light"
     },
     "output_type": "display_data"
    }
   ],
   "source": [
    "figsize_halfwidth = (3, 3)\n",
    "colors = plt.rcParams['axes.prop_cycle'].by_key()['color']\n",
    "\n",
    "fig5c = plt.figure(figsize = figsize_halfwidth)\n",
    "axs5c = fig5c.subplots(1)\n",
    "axs5c.set_yticks([0.4,0.6,0.8,1.0,1.2])\n",
    "axs5c.set_yticklabels([0.4,0.6,0.8,1.0,1.2])\n",
    "axs5c.set_ylabel(r'$D^{poles}_{average}$ $/$ $D^{center}_{app}$')#'D_center [um^2/s] CPD_corr')\n",
    "axs5c.set_ylim([0.4, 1.2])\n",
    "\n",
    "axs5c.set_xlabel(r'$D^{center}_{app}$')\n",
    "axs5c.set_xlim([0, 17])\n",
    "axs5c.errorbar(D_center_mean, poles_avg_real_mean, xerr = D_center_stdev, yerr = poles_avg_real_mean_stdev, fmt = '', ls = 'none', capsize = 2, capthick = 1, elinewidth = 1, color = 'C0', alpha = 1, label = 'microscopy')\n",
    "axs5c.errorbar(D_center_mean, poles_avg_real_mean, xerr = D_center_stdev, yerr = poles_avg_real_mean_stdev, fmt = '', ls = 'none', capsize = 2, capthick = 1, elinewidth = 1, color = 'C0', alpha = 0, label = 'data')\n",
    "axs5c.errorbar(maps_means[:,1], maps_means[:,0], xerr = maps_stdevs[:,1], yerr = maps_stdevs[:,0], fmt = '', ls = 'none', capsize = 2, capthick = 1, elinewidth = 1, color = 'C1', alpha = 1, label = 'simulation')\n",
    "axs5c.errorbar(maps_means[:,1], maps_means[:,0], xerr = maps_stdevs[:,1], yerr = maps_stdevs[:,0], fmt = '', ls = 'none', capsize = 2, capthick = 1, elinewidth = 1, color = 'C1', alpha = 0, label = 'data')\n",
    "\n",
    "axs5c.plot(np.linspace(0, 17, 1000), [1 for i in range(1000)], ls='dotted', markersize=0, lw=1.2, color = 'black', alpha = 1)\n",
    "\n",
    "axs5c.fill_between(np.linspace(0, 17, 1000), [np.mean(poles_avg_real_mean) - np.std(poles_avg_real_mean) for i in range(1000)], [np.mean(poles_avg_real_mean) + np.std(poles_avg_real_mean) for i in range(1000)], color = 'C0', alpha = 0.15, label = 'interval')\n",
    "axs5c.fill_between(np.linspace(0, 17, 1000), [np.mean(poles_avg_real_mean) - np.std(poles_avg_real_mean) for i in range(1000)], [np.mean(poles_avg_real_mean) + np.std(poles_avg_real_mean) for i in range(1000)], color = 'C0', alpha = 0, label = 'microscopy')\n",
    "axs5c.fill_between(np.linspace(0, 17, 1000), [np.mean(maps_means[:,0]) - np.std(maps_means[:,0]) for i in range(1000)], [np.mean(maps_means[:,0]) + np.std(maps_means[:,0]) for i in range(1000)], color = 'C1', alpha = 0.15, label = 'interval')\n",
    "axs5c.fill_between(np.linspace(0, 17, 1000), [np.mean(maps_means[:,0]) - np.std(maps_means[:,0]) for i in range(1000)], [np.mean(maps_means[:,0]) + np.std(maps_means[:,0]) for i in range(1000)], color = 'C1', alpha = 0, label = 'simulation')\n",
    "\n",
    "axs5c.legend(fontsize=7, bbox_to_anchor=(0., 1.02, 1., .102), loc='lower left', ncol=2, mode=\"expand\", borderaxespad=0., frameon=False)\n",
    "\n",
    "fig5c.savefig('fig5c.pdf', dpi = 300, format = 'pdf', bbox_inches='tight')\n",
    "\n",
    "\n",
    "\n"
   ]
  },
  {
   "cell_type": "code",
   "execution_count": 32,
   "id": "70fffc67-daa0-428f-99af-7bcd12fe8bf4",
   "metadata": {},
   "outputs": [
    {
     "data": {
      "image/png": "[encoded data removed]",
      "text/plain": [
       "<Figure size 216x216 with 1 Axes>"
      ]
     },
     "metadata": {
      "needs_background": "light"
     },
     "output_type": "display_data"
    }
   ],
   "source": [
    "#creting figure 5d\n",
    "\n",
    "poles_avg_real_avg = np.mean(poles_avg_real)\n",
    "poles_avg_real_stdev = np.std(poles_avg_real)\n",
    "poles_avg_sim_avg = np.mean(poles_avg_sim)\n",
    "poles_avg_sim_stdev = np.std(poles_avg_sim)\n",
    "\n",
    "\n",
    "def gaussian_kde(data_for_kernel, data_to_plot):\n",
    "\n",
    "    kernel = stats.gaussian_kde(data_for_kernel)\n",
    "    x = kernel(data_to_plot) \n",
    "    \n",
    "    return x\n",
    "\n",
    "y_poles_avg_real = np.linspace(np.amin(poles_avg_real), np.amax(poles_avg_real), 1000)\n",
    "x_poles_avg_real = 1.1 + 0.1*gaussian_kde(poles_avg_real, y_poles_avg_real)\n",
    "\n",
    "y_poles_avg_sim = np.linspace(np.amin(poles_avg_sim), np.amax(poles_avg_sim), 1000)\n",
    "x_poles_avg_sim = 2.1 + 0.075*gaussian_kde(poles_avg_sim, y_poles_avg_sim)\n",
    "\n",
    "figsize_halfwidth = (3, 3)\n",
    "colors = plt.rcParams['axes.prop_cycle'].by_key()['color']\n",
    "\n",
    "fig5d = plt.figure(figsize = figsize_halfwidth)\n",
    "axs5d = fig5d.subplots(1)\n",
    "axs5d.set_ylabel(r'$D^{poles}_{average}$ $/$ $D^{center}_{app}$')\n",
    "axs5d.set_ylim([0.3, 1.4])\n",
    "\n",
    "axs5d.set_xlim([0.7, 3.4])\n",
    "axs5d.set_xticks([1,2])\n",
    "axs5d.set_xticklabels(['real', 'simulation'], rotation = 45)\n",
    "axs5d.errorbar(1, poles_avg_real_avg, yerr = poles_avg_real_stdev, fmt = '.', ls = 'none', capsize = 3, capthick = 1.5, elinewidth = 1.5, color = 'black', alpha = 1)\n",
    "axs5d.scatter([1 for i in range(len(poles_avg_real))], poles_avg_real, s = 2, alpha = 1)\n",
    "axs5d.plot(x_poles_avg_real, y_poles_avg_real, linewidth = 3)\n",
    "axs5d.errorbar(2, poles_avg_sim_avg, yerr = poles_avg_sim_stdev, fmt = '.', ls = 'none', capsize = 3, capthick = 1.5, elinewidth = 1.5, color = 'black', alpha = 1)\n",
    "axs5d.scatter([2 for i in range(len(poles_avg_sim))], poles_avg_sim, s = 2, alpha = 1)\n",
    "axs5d.plot(x_poles_avg_sim, y_poles_avg_sim, linewidth = 3)\n",
    "\n",
    "fig5d.savefig('fig5d.pdf', dpi = 300, format = 'pdf', bbox_inches='tight')"
   ]
  },
  {
   "cell_type": "code",
   "execution_count": 33,
   "id": "6186b92a-ca83-4c73-8d64-808489f4191d",
   "metadata": {},
   "outputs": [
    {
     "name": "stdout",
     "output_type": "stream",
     "text": [
      "0.7135809163113989\n",
      "0.9488430875627726\n"
     ]
    }
   ],
   "source": [
    "print(poles_avg_real_avg)\n",
    "print(poles_avg_sim_avg)"
   ]
  },
  {
   "cell_type": "code",
   "execution_count": 34,
   "id": "31804006-4543-4da9-8072-d6212b5d70ee",
   "metadata": {},
   "outputs": [
    {
     "name": "stdout",
     "output_type": "stream",
     "text": [
      "0.7135809163113989 0.12205449044045356\n",
      "0.9488430875627726 0.0654548232450038\n"
     ]
    }
   ],
   "source": [
    "print(np.mean(poles_avg_real), np.std(poles_avg_real))\n",
    "print(np.mean(poles_avg_sim), np.std(poles_avg_sim))"
   ]
  },
  {
   "cell_type": "code",
   "execution_count": 35,
   "id": "c4eca143-923b-4380-91ba-ff765f7daf38",
   "metadata": {},
   "outputs": [
    {
     "data": {
      "text/plain": [
       "MannwhitneyuResult(statistic=1817.0, pvalue=5.002946825332524e-53)"
      ]
     },
     "execution_count": 35,
     "metadata": {},
     "output_type": "execute_result"
    }
   ],
   "source": [
    "# test to compare data regardless of their normality\n",
    "stats.mannwhitneyu(poles_avg_real, poles_avg_sim)"
   ]
  },
  {
   "cell_type": "markdown",
   "id": "3b726331-3315-4566-a9e8-8f522db95978",
   "metadata": {},
   "source": [
    "Creating figure 5e"
   ]
  },
  {
   "cell_type": "code",
   "execution_count": 49,
   "id": "6f4cb37e-d60c-44b0-b9f7-7397c429b4fa",
   "metadata": {},
   "outputs": [
    {
     "name": "stdout",
     "output_type": "stream",
     "text": [
      "0.20252633209828746\n",
      "[1.15349891]\n",
      "0.04058508643470597\n",
      "9.018717161268931 15.01938499340583\n"
     ]
    }
   ],
   "source": [
    "T = 293.15  # temperature in kelvin\n",
    "kB_corr = 1.38E-6  # boltzmann constant corrected simplified in the formula\n",
    "NA = 6.022E23  # avogadro number\n",
    "rho = 1.41  # protein density\n",
    "\n",
    "# calculate viscosity\n",
    "def calc_eta(MW, D, T, kB_corr, NA, rho):\n",
    "    \n",
    "    return (kB_corr*T)/(6*np.pi*D*(((3*MW)/(4*np.pi*rho*NA))**(1/3)))\n",
    "\n",
    "# propagate error\n",
    "def err_eta(MW, D, err_D, T, kB_corr, NA, rho):\n",
    "    \n",
    "    alpha = (kB_corr*T)/(6*np.pi*(((3*MW)/(4*np.pi*rho*NA))**(1/3)))\n",
    "    \n",
    "    return alpha*(err_D/(D**2))\n",
    "    \n",
    "\n",
    "def fit_viscosity(MW, a):\n",
    "    \n",
    "    return a*(MW**(-1/3 - values_nohet[1]))\n",
    "\n",
    "\n",
    "visco_x = (complex_mass[:-2])*1000\n",
    "visco_y = calc_eta(visco_x, D_center_mean[:-2], T, kB_corr, NA, rho)\n",
    "err_visco_y = err_eta(visco_x, D_center_mean[:-2], D_center_stdev[:-2], T, kB_corr, NA, rho)\n",
    "\n",
    "values_visc, cov_matrix_visc = scipy.optimize.curve_fit(fit_viscosity, visco_x, visco_y, sigma = err_visco_y)\n",
    "\n",
    "print(-1/3 - values_nohet[1])\n",
    "print(values_visc)\n",
    "print(np.sqrt(cov_matrix_visc[-1,-1]))\n",
    "\n",
    "x_visc = np.linspace(np.amin(visco_x), np.amax(visco_x), 1000)\n",
    "y_visc = fit_viscosity(x_visc, values_visc[0])\n",
    "print(np.amin(y_visc), np.amax(y_visc))"
   ]
  },
  {
   "cell_type": "code",
   "execution_count": 37,
   "id": "dbd732c9-2f1e-4441-9b85-2521589ea710",
   "metadata": {},
   "outputs": [
    {
     "data": {
      "image/png": "[encoded data removed]",
      "text/plain": [
       "<Figure size 216x129.6 with 1 Axes>"
      ]
     },
     "metadata": {
      "needs_background": "light"
     },
     "output_type": "display_data"
    }
   ],
   "source": [
    "figsize_halfwidth = (3, 1.8)\n",
    "colors = plt.rcParams['axes.prop_cycle'].by_key()['color']\n",
    "\n",
    "fig5e = plt.figure(figsize = figsize_halfwidth)\n",
    "axs5e = fig5e.subplots(1)\n",
    "axs5e.set_xscale('log')\n",
    "axs5e.set_yscale('log')\n",
    "axs5e.set_yticks([5,10,15,20])\n",
    "axs5e.set_yticklabels([5,10,15,20])\n",
    "axs5e.set_ylim([5,25])\n",
    "axs5e.set_ylabel(r'Viscosity $(cp)$')#'D_center [um^2/s] CPD_corr')\n",
    "\n",
    "\n",
    "axs5e.set_xlabel('Complex Mass $(kDa)$')\n",
    "axs5e.set_xticks([30000, 40000, 50000, 60000, 70000, 80, 90000, 200000, 300000], minor=True)\n",
    "axs5e.set_xticklabels([30, 40, 50, '', '', '', '', 200, 300], minor=True)\n",
    "axs5e.set_xticks([100000])\n",
    "axs5e.set_xticklabels([100])\n",
    "axs5e.errorbar(visco_x[1:], visco_y[1:], yerr = err_visco_y[1:], fmt = '.', ls = 'none', capsize = 3, capthick = 1.5, elinewidth = 1.5, label = 'native')\n",
    "axs5e.errorbar(visco_x[0], visco_y[0], yerr = err_visco_y[0], fmt = '.', ls = 'none', capsize = 3, capthick = 1.5, elinewidth = 1.5, label = 'mEos', color = 'xkcd:vermillion')\n",
    "\n",
    "\n",
    "axs5e.plot(x_visc, y_visc, ls='dotted', markersize=0, lw=1.2, label='trendline', color = 'black', alpha = 0.5)\n",
    "\n",
    "axs5e.legend(fontsize=7, bbox_to_anchor=(0., 1.02, 1., .102), loc='lower left', ncol=2, mode=\"expand\", borderaxespad=0., frameon=False)\n",
    "\n",
    "fig5e.savefig('fig5e.pdf', dpi = 300, format = 'pdf', bbox_inches='tight')"
   ]
  },
  {
   "cell_type": "markdown",
   "id": "40d05b02-7cf9-4d83-9405-56c45a9f9930",
   "metadata": {},
   "source": [
    "Figure s2 - cell dimensions"
   ]
  },
  {
   "cell_type": "code",
   "execution_count": 38,
   "id": "b511de12-d345-4d63-bd6b-47b675870547",
   "metadata": {},
   "outputs": [],
   "source": [
    "path = os.getcwd()\n",
    "path += '\\\\files\\\\for_paper\\\\tables and figures'\n",
    "\n",
    "sizes = pd.read_excel(path + '\\\\sizes.xlsx')\n",
    "sizes = sizes.to_numpy().T\n",
    "\n",
    "lengths = sizes[::2]\n",
    "widths = sizes[1::2]\n",
    "\n",
    "lengths_mean = np.nanmean(lengths, axis = 1)\n",
    "lengths_stdev = np.nanstd(lengths, axis = 1)\n",
    "\n",
    "widths_mean = np.nanmean(widths, axis = 1)\n",
    "widths_stdev = np.nanstd(widths, axis = 1)"
   ]
  },
  {
   "cell_type": "code",
   "execution_count": 39,
   "id": "325a91e3-7064-49bf-8a41-79ab411e1790",
   "metadata": {},
   "outputs": [
    {
     "name": "stdout",
     "output_type": "stream",
     "text": [
      "[2.33407712 2.01744332 2.04377758 2.1748608  2.31556714 2.12992656\n",
      " 2.28217351 2.2418297  2.29579455 2.2477628  1.93727965 2.23678532]\n",
      "[0.95697915 0.87411131 0.91742335 0.98422037 1.14760533 0.88403271\n",
      " 1.03423151 0.89095643 0.96178841 0.9845992  0.80577257 0.88538052]\n"
     ]
    }
   ],
   "source": [
    "print(lengths_mean)\n",
    "print(widths_mean)"
   ]
  },
  {
   "cell_type": "code",
   "execution_count": 40,
   "id": "987f51c2-149c-4b82-b173-3aba14308ee3",
   "metadata": {},
   "outputs": [
    {
     "name": "stdout",
     "output_type": "stream",
     "text": [
      "1.13932386266452 3.57338201545728\n",
      "0.406147135430228 2.33642086355257\n",
      "2.19678608661795 0.869121279555783\n"
     ]
    }
   ],
   "source": [
    "lengths_all = lengths[~np.isnan(lengths)]\n",
    "widths_all = widths[~np.isnan(widths)]\n",
    "\n",
    "print(np.amin(lengths_all), np.amax(lengths_all))\n",
    "print(np.amin(widths_all), np.amax(widths_all))\n",
    "print(np.median(lengths_all), np.median(widths_all))"
   ]
  },
  {
   "cell_type": "code",
   "execution_count": 41,
   "id": "c52d3c39-09bb-49a6-9640-5765886539b1",
   "metadata": {},
   "outputs": [
    {
     "data": {
      "image/png": "[encoded data removed]",
      "text/plain": [
       "<Figure size 216x129.6 with 1 Axes>"
      ]
     },
     "metadata": {
      "needs_background": "light"
     },
     "output_type": "display_data"
    }
   ],
   "source": [
    "figsize_halfwidth = (3, 1.8)\n",
    "colors = plt.rcParams['axes.prop_cycle'].by_key()['color']\n",
    "figs2 = plt.figure(figsize = figsize_halfwidth)\n",
    "axss2 = figs2.subplots(1)\n",
    "axss2.set_yticks([0.5, 1, 1.5])\n",
    "axss2.set_yticklabels([0.5, 1, 1.5])\n",
    "axss2.set_ylabel(r'Cell width $(\\mu m^2/s)$')#'D_center [um^2/s] CPD_corr')\n",
    "axss2.set_xlabel(r'Cell length $(\\mu m^2/s)$')\n",
    "axss2.set_xticks([1.5, 2.0, 2.5, 3.0])\n",
    "axss2.set_xticklabels([1.5, 2.0, 2.5, 3.0])\n",
    "axss2.set_xlim([1.4,3.1])\n",
    "axss2.set_ylim([0.4, 1.6])\n",
    "\n",
    "axss2.errorbar(lengths_mean[0], widths_mean[0], xerr = lengths_stdev[0], yerr = widths_stdev[0], fmt = '.', ls = 'none', capsize = 3, capthick = 1.5, elinewidth = 1.5, label = 'mEos', color = 'xkcd:vermillion')\n",
    "axss2.errorbar(lengths_mean[-2:], widths_mean[-2:], xerr = lengths_stdev[-2:], yerr = widths_stdev[-2:], fmt = '.', ls = 'none', capsize = 3, capthick = 1.5, elinewidth = 1.5, label = 'heterologous', color = 'C1')\n",
    "axss2.errorbar(lengths_mean[1:-2], widths_mean[1:-2], xerr = lengths_stdev[1:-2], yerr = widths_stdev[1:-2], fmt = '.', ls = 'none', capsize = 3, capthick = 1.5, elinewidth = 1.5, label = 'native', color = 'C0')\n",
    "    \n",
    "axss2.legend(fontsize=7, bbox_to_anchor=(0., 1.02, 1., .102), loc='lower left', ncol=2, mode=\"expand\", borderaxespad=0., frameon=False)\n",
    "figs2.savefig('figs2.pdf', dpi = 300, format = 'pdf', bbox_inches='tight')\n",
    "    \n",
    "    "
   ]
  },
  {
   "cell_type": "markdown",
   "id": "1c6e044d-431e-455d-838c-24f325ab69f9",
   "metadata": {},
   "source": [
    "Fast pole vs slow pole"
   ]
  },
  {
   "cell_type": "code",
   "execution_count": 42,
   "id": "938c6c72-c297-4ac7-8ab2-df9e5093d4c4",
   "metadata": {},
   "outputs": [],
   "source": [
    "real_faster = np.where(D_left_ratio_all > D_right_ratio_all, D_left_ratio_all, D_right_ratio_all)\n",
    "real_slower = np.where(D_left_ratio_all <= D_right_ratio_all, D_left_ratio_all, D_right_ratio_all)\n",
    "\n",
    "sim_faster = np.where(left_ratio_sim > right_ratio_sim, left_ratio_sim, right_ratio_sim)\n",
    "sim_slower = np.where(left_ratio_sim <= right_ratio_sim, left_ratio_sim, right_ratio_sim)"
   ]
  },
  {
   "cell_type": "code",
   "execution_count": 43,
   "id": "79edfe8d-1988-47ff-918a-3bcd89db9b26",
   "metadata": {},
   "outputs": [
    {
     "data": {
      "image/png": "[encoded data removed]",
      "text/plain": [
       "<Figure size 216x216 with 1 Axes>"
      ]
     },
     "metadata": {
      "needs_background": "light"
     },
     "output_type": "display_data"
    }
   ],
   "source": [
    "#real fast vs slow\n",
    "\n",
    "poles_faster_real_avg = np.mean(real_faster)\n",
    "poles_faster_real_stdev = np.std(real_faster)\n",
    "poles_slower_real_avg = np.mean(real_slower)\n",
    "poles_slower_real_stdev = np.std(real_slower)\n",
    "\n",
    "\n",
    "def gaussian_kde(data_for_kernel, data_to_plot):\n",
    "\n",
    "    kernel = stats.gaussian_kde(data_for_kernel)\n",
    "    x = kernel(data_to_plot) \n",
    "    \n",
    "    return x\n",
    "\n",
    "y_poles_faster_real = np.linspace(np.amin(real_faster), np.amax(real_faster), 1000)\n",
    "x_poles_faster_real = 1.1 + 0.1*gaussian_kde(real_faster, y_poles_faster_real)\n",
    "\n",
    "y_poles_slower_real = np.linspace(np.amin(real_slower), np.amax(real_slower), 1000)\n",
    "x_poles_slower_real = 2.1 + 0.1*gaussian_kde(real_slower, y_poles_slower_real)\n",
    "\n",
    "figsize_halfwidth = (3, 3)\n",
    "colors = plt.rcParams['axes.prop_cycle'].by_key()['color']\n",
    "\n",
    "fig11a = plt.figure(figsize = figsize_halfwidth)\n",
    "axs11a = fig11a.subplots(1)\n",
    "axs11a.set_ylabel(r'$D^{single pole}_{app}$ $/$ $D^{center}_{app}$')\n",
    "axs11a.set_ylim([0.1, 1.5])\n",
    "\n",
    "axs11a.set_xlim([0.7, 2.6])\n",
    "axs11a.set_xticks([1,2])\n",
    "axs11a.set_xticklabels(['faster', 'slower'], rotation = 45)\n",
    "axs11a.errorbar(1, poles_faster_real_avg, yerr = poles_faster_real_stdev, fmt = '.', ls = 'none', capsize = 3, capthick = 1.5, elinewidth = 1.5, color = 'black', alpha = 1)\n",
    "axs11a.scatter([1 for i in range(len(real_faster))], real_faster, s = 2, alpha = 1)\n",
    "axs11a.plot(x_poles_faster_real, y_poles_faster_real, linewidth = 3)\n",
    "axs11a.errorbar(2, poles_slower_real_avg, yerr = poles_slower_real_stdev, fmt = '.', ls = 'none', capsize = 3, capthick = 1.5, elinewidth = 1.5, color = 'black', alpha = 1)\n",
    "axs11a.scatter([2 for i in range(len(real_slower))], real_slower, s = 2, alpha = 1)\n",
    "axs11a.plot(x_poles_slower_real, y_poles_slower_real, linewidth = 3)\n",
    "\n",
    "fig11a.savefig('fig11a.pdf', dpi = 300, format = 'pdf', bbox_inches='tight')"
   ]
  },
  {
   "cell_type": "code",
   "execution_count": 44,
   "id": "1a20b88c-59ad-4fc9-aee4-1fe757cf34a1",
   "metadata": {},
   "outputs": [
    {
     "data": {
      "text/plain": [
       "MannwhitneyuResult(statistic=118952.0, pvalue=2.55051602796676e-37)"
      ]
     },
     "execution_count": 44,
     "metadata": {},
     "output_type": "execute_result"
    }
   ],
   "source": [
    "stats.mannwhitneyu(real_faster, real_slower)"
   ]
  },
  {
   "cell_type": "code",
   "execution_count": 45,
   "id": "b1701596-785d-4ceb-a9ff-923b6a2b4c97",
   "metadata": {},
   "outputs": [
    {
     "data": {
      "image/png": "[encoded data removed]",
      "text/plain": [
       "<Figure size 216x216 with 1 Axes>"
      ]
     },
     "metadata": {
      "needs_background": "light"
     },
     "output_type": "display_data"
    }
   ],
   "source": [
    "#sim fast vs slow\n",
    "\n",
    "poles_faster_sim_avg = np.mean(sim_faster)\n",
    "poles_faster_sim_stdev = np.std(sim_faster)\n",
    "poles_slower_sim_avg = np.mean(sim_slower)\n",
    "poles_slower_sim_stdev = np.std(sim_slower)\n",
    "\n",
    "\n",
    "def gaussian_kde(data_for_kernel, data_to_plot):\n",
    "\n",
    "    kernel = stats.gaussian_kde(data_for_kernel)\n",
    "    x = kernel(data_to_plot) \n",
    "    \n",
    "    return x\n",
    "\n",
    "y_poles_faster_sim = np.linspace(np.amin(sim_faster), np.amax(sim_faster), 1000)\n",
    "x_poles_faster_sim = 1.1 + 0.05*gaussian_kde(sim_faster, y_poles_faster_sim)\n",
    "\n",
    "y_poles_slower_sim = np.linspace(np.amin(sim_slower), np.amax(sim_slower), 1000)\n",
    "x_poles_slower_sim = 2.1 + 0.05*gaussian_kde(sim_slower, y_poles_slower_sim)\n",
    "\n",
    "figsize_halfwidth = (3, 3)\n",
    "colors = plt.rcParams['axes.prop_cycle'].by_key()['color']\n",
    "\n",
    "fig11b = plt.figure(figsize = figsize_halfwidth)\n",
    "axs11b = fig11b.subplots(1)\n",
    "axs11b.set_ylabel(r'$D^{single pole}_{app}$ $/$ $D^{center}_{app}$')\n",
    "axs11b.set_ylim([0.8, 1.3])\n",
    "\n",
    "axs11b.set_xlim([0.7, 3])\n",
    "axs11b.set_xticks([1,2])\n",
    "axs11b.set_xticklabels(['faster', 'slower'], rotation = 45)\n",
    "axs11b.errorbar(1, poles_faster_sim_avg, yerr = poles_faster_sim_stdev, fmt = '.', ls = 'none', capsize = 3, capthick = 1.5, elinewidth = 1.5, color = 'black', alpha = 1)\n",
    "axs11b.scatter([1 for i in range(len(sim_faster))], sim_faster, s = 2, alpha = 1)\n",
    "axs11b.plot(x_poles_faster_sim, y_poles_faster_sim, linewidth = 3)\n",
    "axs11b.errorbar(2, poles_slower_sim_avg, yerr = poles_slower_sim_stdev, fmt = '.', ls = 'none', capsize = 3, capthick = 1.5, elinewidth = 1.5, color = 'black', alpha = 1)\n",
    "axs11b.scatter([2 for i in range(len(sim_slower))], sim_slower, s = 2, alpha = 1)\n",
    "axs11b.plot(x_poles_slower_sim, y_poles_slower_sim, linewidth = 3)\n",
    "\n",
    "fig11b.savefig('fig11b.pdf', dpi = 300, format = 'pdf', bbox_inches='tight')"
   ]
  },
  {
   "cell_type": "code",
   "execution_count": 46,
   "id": "0876edea-58ea-44c5-81c4-ec9c06223b33",
   "metadata": {},
   "outputs": [
    {
     "data": {
      "text/plain": [
       "MannwhitneyuResult(statistic=8228.0, pvalue=0.05604869875548652)"
      ]
     },
     "execution_count": 46,
     "metadata": {},
     "output_type": "execute_result"
    }
   ],
   "source": [
    "stats.mannwhitneyu(sim_faster, sim_slower)"
   ]
  },
  {
   "cell_type": "code",
   "execution_count": 47,
   "id": "aae976f5-7ad1-41f9-b19f-4c24e256d885",
   "metadata": {},
   "outputs": [
    {
     "data": {
      "image/png": "[encoded data removed]",
      "text/plain": [
       "<Figure size 216x216 with 1 Axes>"
      ]
     },
     "metadata": {
      "needs_background": "light"
     },
     "output_type": "display_data"
    }
   ],
   "source": [
    "#sim fast vs slow\n",
    "\n",
    "faster_vs_slower_real = (real_faster - real_slower)\n",
    "faster_vs_slower_sim = (sim_faster - sim_slower) \n",
    "\n",
    "faster_vs_slower_real_avg = np.mean(faster_vs_slower_real)\n",
    "faster_vs_slower_real_stdev = np.std(faster_vs_slower_real)\n",
    "faster_vs_slower_sim_avg = np.mean(faster_vs_slower_sim)\n",
    "faster_vs_slower_sim_stdev = np.std(faster_vs_slower_sim)\n",
    "\n",
    "\n",
    "def gaussian_kde(data_for_kernel, data_to_plot):\n",
    "\n",
    "    kernel = stats.gaussian_kde(data_for_kernel)\n",
    "    x = kernel(data_to_plot) \n",
    "    \n",
    "    return x\n",
    "\n",
    "y_poles_real = np.linspace(np.amin(faster_vs_slower_real), np.amax(faster_vs_slower_real), 1000)\n",
    "x_poles_real = 1.1 + 0.1*gaussian_kde(faster_vs_slower_real, y_poles_real)\n",
    "\n",
    "y_poles_sim = np.linspace(np.amin(faster_vs_slower_sim), np.amax(faster_vs_slower_sim), 1000)\n",
    "x_poles_sim = 2.1 + 0.02*gaussian_kde(faster_vs_slower_sim, y_poles_sim)\n",
    "\n",
    "figsize_halfwidth = (3, 3)\n",
    "colors = plt.rcParams['axes.prop_cycle'].by_key()['color']\n",
    "\n",
    "fig11c = plt.figure(figsize = figsize_halfwidth)\n",
    "axs11c = fig11c.subplots(1)\n",
    "axs11c.set_ylabel(r'$\\Delta$ $D^{single}_{app}$ $^{pole}$ $/$ $D^{center}_{app}$')\n",
    "axs11c.set_ylim([-0.1, 0.7])\n",
    "\n",
    "axs11c.set_xlim([0.7, 3.1])\n",
    "axs11c.set_xticks([1,2])\n",
    "axs11c.set_xticklabels(['real', 'simulations'], rotation = 45)\n",
    "axs11c.errorbar(1, faster_vs_slower_real_avg, yerr = faster_vs_slower_real_stdev, fmt = '.', ls = 'none', capsize = 3, capthick = 1.5, elinewidth = 1.5, color = 'black', alpha = 1)\n",
    "axs11c.scatter([1 for i in range(len(faster_vs_slower_real))], faster_vs_slower_real, s = 2, alpha = 1)\n",
    "axs11c.plot(x_poles_real, y_poles_real, linewidth = 3)\n",
    "axs11c.errorbar(2, faster_vs_slower_sim_avg, yerr = faster_vs_slower_sim_stdev, fmt = '.', ls = 'none', capsize = 3, capthick = 1.5, elinewidth = 1.5, color = 'black', alpha = 1)\n",
    "axs11c.scatter([2 for i in range(len(faster_vs_slower_sim))], faster_vs_slower_sim, s = 2, alpha = 1)\n",
    "axs11c.plot(x_poles_sim, y_poles_sim, linewidth = 3)\n",
    "\n",
    "fig11c.savefig('fig11c.pdf', dpi = 300, format = 'pdf', bbox_inches='tight')"
   ]
  },
  {
   "cell_type": "code",
   "execution_count": 48,
   "id": "f75bef77-b737-45b8-b7ec-d19c53890e22",
   "metadata": {},
   "outputs": [
    {
     "data": {
      "text/plain": [
       "MannwhitneyuResult(statistic=45150.0, pvalue=5.0907438607421757e-51)"
      ]
     },
     "execution_count": 48,
     "metadata": {},
     "output_type": "execute_result"
    }
   ],
   "source": [
    "stats.mannwhitneyu(faster_vs_slower_real, faster_vs_slower_sim)"
   ]
  },
  {
   "cell_type": "code",
   "execution_count": null,
   "id": "859c64ef-7051-4e6f-bf85-3f65a45ca1b3",
   "metadata": {},
   "outputs": [],
   "source": []
  }
 ],
 "metadata": {
  "kernelspec": {
   "display_name": "Python 3 (ipykernel)",
   "language": "python",
   "name": "python3"
  },
  "language_info": {
   "codemirror_mode": {
    "name": "ipython",
    "version": 3
   },
   "file_extension": ".py",
   "mimetype": "text/x-python",
   "name": "python",
   "nbconvert_exporter": "python",
   "pygments_lexer": "ipython3",
   "version": "3.9.9"
  }
 },
 "nbformat": 4,
 "nbformat_minor": 5
}
