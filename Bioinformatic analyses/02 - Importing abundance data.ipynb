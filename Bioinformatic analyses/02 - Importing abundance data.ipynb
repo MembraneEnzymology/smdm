{
 "cells": [
  {
   "cell_type": "markdown",
   "metadata": {},
   "source": [
    "# Importing the Schmidt et al. abundance database into postgreSQL\n",
    "\n",
    "This program imports data from the Schmidt et al. 2015 database into postgreSQL database and merges it with the IntAct database.\n",
    "\n",
    "Rijksuniversiteit Groningen, 2018\n",
    "\n",
    "C.M. Punter (c.m.punter@rug.nl)"
   ]
  },
  {
   "cell_type": "markdown",
   "metadata": {},
   "source": [
    "## Imports, connecting to postgreSQL and assigning variables"
   ]
  },
  {
   "cell_type": "code",
   "execution_count": 1,
   "metadata": {},
   "outputs": [],
   "source": [
    "import psycopg2\n",
    "import urllib.request\n",
    "import os"
   ]
  },
  {
   "cell_type": "code",
   "execution_count": 2,
   "metadata": {},
   "outputs": [],
   "source": [
    "# specify the username, password and the name of the database to connect to\n",
    "\n",
    "username = 'postgres'\n",
    "password = 'password'\n",
    "database = 'intact_20201208'\n",
    "\n",
    "# specify path to the database file\n",
    "\n",
    "path = os.path.join(os.getcwd(), 'sabu.txt')\n",
    "\n",
    "# connect to the database\n",
    "\n",
    "conn = psycopg2.connect(\"dbname=%s user=%s password=%s\" % (database, username, password))\n",
    "\n",
    "# specify column names and data types\n",
    "\n",
    "column_names = [\n",
    "    'sabu_Uniprot',\n",
    "    'sabu_Description',\n",
    "    'sabu_Gene',\n",
    "    'sabu_Peptides',\n",
    "    'sabu_Confidence_score',\n",
    "    'weight',\n",
    "    'sabu_Dataset',\n",
    "    'sabu_Glycerol_number_of_proteins_per_cell',\n",
    "    'sabu_Glycerol_fg_protein_per_cell',\n",
    "    'sabu_Glycerol_coeffcient_of_variance',\n",
    "    'sabu_Bnumber',\n",
    "    'sabu_Annotated_functional_COG_groups',\n",
    "    'sabu_Annotated_functional_COG_group',\n",
    "    'sabu_Annotated_functional_COG_class',\n",
    "]\n",
    "\n",
    "column_types = [\n",
    "    'text unique',\n",
    "    'text',\n",
    "    'text',\n",
    "    'text',\n",
    "    'real',\n",
    "    'real',\n",
    "    'integer',\n",
    "    'integer',\n",
    "    'real',\n",
    "    'real',\n",
    "    'text',\n",
    "    'text',\n",
    "    'text',\n",
    "    'text',\n",
    "]"
   ]
  },
  {
   "cell_type": "markdown",
   "metadata": {},
   "source": [
    "## Functions"
   ]
  },
  {
   "cell_type": "code",
   "execution_count": 3,
   "metadata": {},
   "outputs": [],
   "source": [
    "# create SQL tables out of the imported file\n",
    "\n",
    "def create_tables():\n",
    "    cur = conn.cursor()\n",
    "    name_type = ['%s %s' % (name, type) for name, type in zip(column_names, column_types)]\n",
    "    cur.execute('create table if not exists abundance (' +\n",
    "                'id serial primary key, ' +\n",
    "                'identifier_id integer references identifiers on delete cascade, ' +\n",
    "                ', '.join(name_type) + ')')\n",
    "    conn.commit()\n",
    "\n",
    "\n",
    "def get_identifier_id(identifier):\n",
    "    cur = conn.cursor()\n",
    "    cur.execute(\"select id from identifiers where identifier = %s\", (identifier, ))\n",
    "    identifier_id = cur.fetchone()\n",
    "    cur.close()\n",
    "    return identifier_id\n",
    "\n",
    "\n",
    "def import_line(line):\n",
    "    columns = line.split('\\t')\n",
    "    columns += [''] * (14 - len(columns))   # make sure we have 14 columns\n",
    "\n",
    "    for i in range(14):\n",
    "        if columns[i] == 'NA': columns[i] = None;\n",
    "\n",
    "    identifier_id = get_identifier_id(columns[0])\n",
    "\n",
    "    sql = 'insert into abundance (identifier_id, %s) values ' % ', '.join(column_names)\n",
    "    sql += '(%s, %s, %s, %s, %s, %s, %s, %s, %s, %s, %s, %s, %s, %s, %s) on conflict do nothing'\n",
    "\n",
    "    cur = conn.cursor()\n",
    "    cur.execute(sql, (identifier_id, *columns))\n",
    "    conn.commit()\n",
    "\n",
    "\n",
    "def import_from_file(path):\n",
    "    with open(path) as f:\n",
    "        next(f) # skip header line\n",
    "        for line in f:\n",
    "            line = line.rstrip()  # remove \\n at the end of the line\n",
    "            import_line(line)"
   ]
  },
  {
   "cell_type": "markdown",
   "metadata": {},
   "source": [
    "## Execution"
   ]
  },
  {
   "cell_type": "code",
   "execution_count": 4,
   "metadata": {},
   "outputs": [],
   "source": [
    "create_tables()\n",
    "import_from_file(path)"
   ]
  }
 ],
 "metadata": {
  "kernelspec": {
   "display_name": "Python 3",
   "language": "python",
   "name": "python3"
  },
  "language_info": {
   "codemirror_mode": {
    "name": "ipython",
    "version": 3
   },
   "file_extension": ".py",
   "mimetype": "text/x-python",
   "name": "python",
   "nbconvert_exporter": "python",
   "pygments_lexer": "ipython3",
   "version": "3.8.10"
  }
 },
 "nbformat": 4,
 "nbformat_minor": 4
}
